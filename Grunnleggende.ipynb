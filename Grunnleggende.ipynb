{
 "cells": [
  {
   "cell_type": "markdown",
   "id": "240a34b4-6eed-40e7-9ff8-df2b039a78f1",
   "metadata": {},
   "source": [
    "## Grunnleggende\n",
    "## Linjeskift, F-streng, Variabler"
   ]
  },
  {
   "cell_type": "markdown",
   "id": "e8850825-239e-4574-825d-afbbd8e24bd8",
   "metadata": {},
   "source": [
    "### Linjeskift\n",
    "##### Legg til end=' ' i slutten av print-setningen, kommer ikke linjeskift. "
   ]
  },
  {
   "cell_type": "code",
   "execution_count": 5,
   "id": "ff919041-99aa-41e0-b2ac-313c2ce098e5",
   "metadata": {},
   "outputs": [
    {
     "name": "stdout",
     "output_type": "stream",
     "text": [
      "Hello World 42\n",
      "Hello\n",
      "World\n",
      "HelloWorld42\n"
     ]
    }
   ],
   "source": [
    "# Hello World 42\n",
    "print('Hello', 'World', 40 + 2)\n",
    "\n",
    "# Hello\n",
    "print('Hello')\n",
    "\n",
    "# World\n",
    "print('World')\n",
    "\n",
    "# HelloWorld42\n",
    "print('Hello', end='')\n",
    "print('World', end='')\n",
    "print(40 + 2)"
   ]
  },
  {
   "cell_type": "markdown",
   "id": "9f5fc584-99d9-450b-95de-4a645e100594",
   "metadata": {},
   "source": [
    "### F-streng\n",
    "##### Lar deg inkludere strenger og variabler, på en enkel lesbar måte i en streng.\n",
    "##### Uten f, vil ikke python tolke innholdet i krøllparantesene som variabler, eller uttrykk, men bare vanlig tekststreng."
   ]
  },
  {
   "cell_type": "code",
   "execution_count": 6,
   "id": "9557dc2d-09bc-48ce-af15-8b349fa0e874",
   "metadata": {},
   "outputs": [
    {
     "name": "stdout",
     "output_type": "stream",
     "text": [
      "Your age is 20\n"
     ]
    }
   ],
   "source": [
    "age = 20\n",
    "print(f'Your age is {age}')"
   ]
  },
  {
   "cell_type": "code",
   "execution_count": 4,
   "id": "28d71931-41e0-4b18-ad42-f056b54fd561",
   "metadata": {},
   "outputs": [
    {
     "name": "stdout",
     "output_type": "stream",
     "text": [
      "Visste du at 2 + 3 er 5?\n"
     ]
    }
   ],
   "source": [
    "x = 2\n",
    "y = 3\n",
    "print(f'Visste du at {x} + {y} er {x + y}?')"
   ]
  },
  {
   "cell_type": "code",
   "execution_count": null,
   "id": "1294dd43-4b19-4941-afaa-cde16d08f2e0",
   "metadata": {},
   "outputs": [],
   "source": []
  }
 ],
 "metadata": {
  "kernelspec": {
   "display_name": "Python 3 (ipykernel)",
   "language": "python",
   "name": "python3"
  },
  "language_info": {
   "codemirror_mode": {
    "name": "ipython",
    "version": 3
   },
   "file_extension": ".py",
   "mimetype": "text/x-python",
   "name": "python",
   "nbconvert_exporter": "python",
   "pygments_lexer": "ipython3",
   "version": "3.13.1"
  }
 },
 "nbformat": 4,
 "nbformat_minor": 5
}
