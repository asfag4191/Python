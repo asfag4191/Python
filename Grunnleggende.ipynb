{
 "cells": [
  {
   "cell_type": "markdown",
   "id": "240a34b4-6eed-40e7-9ff8-df2b039a78f1",
   "metadata": {},
   "source": [
    "## Grunnleggende\n",
    "## Linjeskift, F-streng, Variabler, Streng, Typer, Operator\n",
    "\n",
    "#### Innholdfortegnelse\n",
    "[Linjeskift](#Linjeskift)\n",
    "\n",
    "\n",
    "[F-streng](#F-streng)\n",
    "\n",
    "[Variabler](#Variabler)\n",
    "\n",
    "[Strenger](#Strenger)\n",
    "\n",
    "[Input fra terminal](#Input-fra-terminal)\n",
    "\n",
    "[Operator](#Operator)\n",
    "\n",
    "[Presedens og assosiativitet](#Presedens-og-assosiativitet)\n",
    "\n",
    "[Betingelser](#Betingelser)\n",
    "- If/elif/else betingelser\n",
    "\n",
    "[Logiske operasjoner](#Logiske-operasjoner)\n",
    "\n",
    "\n"
   ]
  },
  {
   "cell_type": "markdown",
   "id": "e8850825-239e-4574-825d-afbbd8e24bd8",
   "metadata": {},
   "source": [
    "### Linjeskift\n",
    "Legg til end=' ' i slutten av print-setningen, kommer ikke linjeskift. "
   ]
  },
  {
   "cell_type": "code",
   "execution_count": 485,
   "id": "ff919041-99aa-41e0-b2ac-313c2ce098e5",
   "metadata": {},
   "outputs": [
    {
     "name": "stdout",
     "output_type": "stream",
     "text": [
      "Hello World 42\n",
      "Hello\n",
      "World\n",
      "HelloWorld42\n"
     ]
    }
   ],
   "source": [
    "# Hello World 42\n",
    "print('Hello', 'World', 40 + 2)\n",
    "\n",
    "# Hello\n",
    "print('Hello')\n",
    "\n",
    "# World\n",
    "print('World')\n",
    "\n",
    "# HelloWorld42\n",
    "print('Hello', end='')\n",
    "print('World', end='')\n",
    "print(40 + 2)"
   ]
  },
  {
   "cell_type": "code",
   "execution_count": 486,
   "id": "6024d9e9-20d3-4970-b79c-6866f79ce3f7",
   "metadata": {},
   "outputs": [
    {
     "name": "stdout",
     "output_type": "stream",
     "text": [
      "Denne strengen\n",
      "inneholder to\n",
      "linjeskift\n",
      "Her 'er' det apostrof\n",
      "Her 'er' det apostrof\n",
      "C:\\mappe\\script.py\n"
     ]
    }
   ],
   "source": [
    "# En streng kan inneholde linjeskift (\\n)\n",
    "print('Denne strengen\\ninneholder to\\nlinjeskift')\n",
    "\n",
    "# En streng kan inneholde apostrof (')\n",
    "print('Her \\'er\\' det apostrof')\n",
    "print(\"Her 'er' det apostrof\")  # bedre løsning: bytt typen anførselstegn\n",
    "\n",
    "# En streng kan inneholde bakstrek (\\)\n",
    "print('C:\\\\mappe\\\\script.py')"
   ]
  },
  {
   "cell_type": "markdown",
   "id": "9f5fc584-99d9-450b-95de-4a645e100594",
   "metadata": {},
   "source": [
    "### F-streng\n",
    "Lar deg inkludere strenger og variabler, på en enkel lesbar måte i en streng.\n",
    "Uten f, vil ikke python tolke innholdet i krøllparantesene som variabler, eller uttrykk, men bare vanlig tekststreng."
   ]
  },
  {
   "cell_type": "code",
   "execution_count": 487,
   "id": "9557dc2d-09bc-48ce-af15-8b349fa0e874",
   "metadata": {},
   "outputs": [
    {
     "name": "stdout",
     "output_type": "stream",
     "text": [
      "Your age is 20\n"
     ]
    }
   ],
   "source": [
    "age = 20\n",
    "print(f'Your age is {age}')"
   ]
  },
  {
   "cell_type": "code",
   "execution_count": 488,
   "id": "28d71931-41e0-4b18-ad42-f056b54fd561",
   "metadata": {},
   "outputs": [
    {
     "name": "stdout",
     "output_type": "stream",
     "text": [
      "Visste du at 2 + 3 er 5?\n"
     ]
    }
   ],
   "source": [
    "x = 2\n",
    "y = 3\n",
    "print(f'Visste du at {x} + {y} er {x + y}?')"
   ]
  },
  {
   "cell_type": "markdown",
   "id": "cb06831c-6026-484d-b79e-728071975273",
   "metadata": {},
   "source": [
    "### Immutable og mutable typer\n",
    "\n",
    "Immutable, kan ikke endres etter de er opprettet. \n",
    "Har da: int, float, str, tuple, bool\n",
    "\n",
    "Mutable, kan endres etter de er opprettet.\n",
    "Har da: list, dict, set"
   ]
  },
  {
   "cell_type": "code",
   "execution_count": 521,
   "id": "14abc530-be06-4478-b6cb-806efc93ee35",
   "metadata": {},
   "outputs": [],
   "source": [
    "x = 10  # En integer er immutable\n",
    "x = x + 5  # Dette oppretter et nytt objekt, x peker nå til det nye objektet 15\n",
    "\n",
    "string = \"hei\"  # En streng er immutable\n",
    "#string[0] = \"H\"  # Feil! Du kan ikke endre en streng direkte\n"
   ]
  },
  {
   "cell_type": "code",
   "execution_count": 522,
   "id": "65a987e9-2b5f-419a-a0c6-4059dbab1c41",
   "metadata": {},
   "outputs": [
    {
     "name": "stdout",
     "output_type": "stream",
     "text": [
      "[10, 2, 3]\n",
      "{'navn': 'Alice', 'alder': 30}\n"
     ]
    }
   ],
   "source": [
    "# Liste er mutable\n",
    "my_list = [1, 2, 3]\n",
    "my_list[0] = 10  # Du kan endre innholdet direkte\n",
    "print(my_list)  # Output: [10, 2, 3]\n",
    "\n",
    "# Dictionary er mutable\n",
    "my_dict = {\"navn\": \"Alice\", \"alder\": 25}\n",
    "my_dict[\"alder\"] = 30  # Endrer verdien for nøkkelen \"alder\"\n",
    "print(my_dict)  # Output: {'navn': 'Alice', 'alder': 30}"
   ]
  },
  {
   "cell_type": "markdown",
   "id": "1ccfbaff-5f8a-4d58-ad63-186e2b014773",
   "metadata": {},
   "source": [
    "### Variabler\n",
    "Plassholder for data som kan brukes til å lagre verdier som kan endres eller gjenbrukes i koden."
   ]
  },
  {
   "cell_type": "code",
   "execution_count": 489,
   "id": "39fa4963-a791-4e61-b8bd-6318bcb07e22",
   "metadata": {},
   "outputs": [
    {
     "name": "stdout",
     "output_type": "stream",
     "text": [
      "Alice\n",
      "25\n"
     ]
    }
   ],
   "source": [
    "# Opprette variabler\n",
    "navn = \"Alice\"  # En streng (tekst)\n",
    "alder = 25      # Et heltall (int)\n",
    "høyde = 1.75    # Et desimaltall (float)\n",
    "er_student = True  # En boolean (True/False)\n",
    "\n",
    "print(navn)  # Output: Alice\n",
    "print(alder)  # Output: 25"
   ]
  },
  {
   "cell_type": "markdown",
   "id": "97e8ac6a-78c1-4b67-b76f-e98f67d03bb5",
   "metadata": {},
   "source": [
    "#### En variabel kan endres når som helst i koden. "
   ]
  },
  {
   "cell_type": "code",
   "execution_count": 490,
   "id": "ebcbc185-c43a-46e0-81e1-b8a131e64263",
   "metadata": {},
   "outputs": [
    {
     "name": "stdout",
     "output_type": "stream",
     "text": [
      "10\n",
      "20\n"
     ]
    }
   ],
   "source": [
    "x = 10\n",
    "print(x)  # Output: 10\n",
    "\n",
    "x = 20\n",
    "print(x)  # Output: 20\n"
   ]
  },
  {
   "cell_type": "markdown",
   "id": "7c96b63a-5d72-4451-86b6-716adc0b7acd",
   "metadata": {},
   "source": [
    "Kan innholde data av ulike typer, slik som heltall,float, liste og dictionary. En dictionary lagrer data i nøkkel-verdi-par. Hente ut data basert på unike nøkler, i stedet for posisjon, slik som i lister."
   ]
  },
  {
   "cell_type": "code",
   "execution_count": 491,
   "id": "5167d699-2ba3-4d45-93ea-2fb3cc3f065e",
   "metadata": {},
   "outputs": [
    {
     "name": "stdout",
     "output_type": "stream",
     "text": [
      "{'navn': 'Alice', 'alder': 25, 'student': True}\n"
     ]
    }
   ],
   "source": [
    "# Eksempel på en dictionary\n",
    "ordbok = {\n",
    "    \"navn\": \"Alice\",  # 'navn' er nøkkelen, \"Alice\" er verdien\n",
    "    \"alder\": 25,      # 'alder' er nøkkelen, 25 er verdien\n",
    "    \"student\": True   # 'student' er nøkkelen, True er verdien\n",
    "}\n",
    "\n",
    "print(ordbok)"
   ]
  },
  {
   "cell_type": "code",
   "execution_count": 492,
   "id": "4cbc6508-c2a4-4405-8b3a-f4bbb4dbeac2",
   "metadata": {},
   "outputs": [
    {
     "name": "stdout",
     "output_type": "stream",
     "text": [
      "Alice\n",
      "25\n"
     ]
    }
   ],
   "source": [
    "# Tilgang til verdier, bruker nøkkelen i []\n",
    "print(ordbok[\"navn\"])   # Output: Alice\n",
    "print(ordbok[\"alder\"])  # Output: 25\n"
   ]
  },
  {
   "cell_type": "markdown",
   "id": "295a43a9-f1b0-452d-881a-772c43266fa7",
   "metadata": {},
   "source": [
    "#### Tilordning, kan tilordnes med alle symbol-operasjonene, og på samme linje"
   ]
  },
  {
   "cell_type": "code",
   "execution_count": 493,
   "id": "31fb6741-9f73-496e-8592-87c3c2423634",
   "metadata": {},
   "outputs": [],
   "source": [
    "x = 42\n",
    "\n",
    "x += 2       # det samme som  x = x + 2\n",
    "x -= 3 - 1   # det samme som  x = x - (3 - 1)\n",
    "x //= 10     # det samme som  x = x // 10\n",
    "x **= 5 // 2 # opphøyes,  x = x ** (5 // 2)\n",
    "x *= 2 + 3   # det samme som  x = x * (2 + 3)\n",
    "x %= 3       # finner resten når x deles på 3.\n",
    "x /= 3       # det samme som  x = x / 3\n"
   ]
  },
  {
   "cell_type": "code",
   "execution_count": 494,
   "id": "d58b4842-7f2c-41ea-a83a-b568a5571792",
   "metadata": {},
   "outputs": [
    {
     "name": "stdout",
     "output_type": "stream",
     "text": [
      "5 5 5\n",
      "2 3\n"
     ]
    }
   ],
   "source": [
    "x = y = z = 5   # alle tre variablene x, y og z refererer nå til verdien 5\n",
    "print(x, y, z)  # 5 5 5\n",
    "\n",
    "a, b = 2, 3     # a refererer nå til verdien 2, b refererer nå til verdien 3\n",
    "print(a, b)     # 2 3\n"
   ]
  },
  {
   "attachments": {},
   "cell_type": "markdown",
   "id": "76cb2d1d-1344-4bb8-92fc-320ca4ec84e2",
   "metadata": {},
   "source": [
    "### Utrykk\n",
    "\n",
    "Alt som kan regnes ut til en verdi. \n",
    "\n",
    "#### Eksempler på uttrykk:\n",
    "\n",
    "#### Enkle verdier:\n",
    "42 (et tall)\n",
    "'Hei verden' (en tekststreng)\n",
    "\n",
    "#### Variabler:\n",
    "x (hvis x allerede har fått en verdi)\n",
    "\n",
    "#### Regnestykker:\n",
    " 3 + 2 (gir verdien 5)\n",
    " y > 5 (gir verdien True eller False avhengig av hva y er)\n",
    "\n",
    "#### Funksjoner:\n",
    " len(x) (gir lengden av en liste eller tekst)\n",
    " min(2, y) (gir det minste tallet mellom 2 og y)\n",
    "\n",
    "#### Kombinasjoner:\n",
    " (len(x) > 5) and (y < 10) (gir True eller False basert på betingelsene)\n",
    " Kort sagt: Et uttrykk er som et \"regnestykke\" Python kan evaluere til én verdi.\n",
    "\n",
    "\n"
   ]
  },
  {
   "cell_type": "markdown",
   "id": "352cbd7f-e75c-4754-814e-014e70c63e92",
   "metadata": {},
   "source": [
    "#### Variabler referer til verdier, ikke utrykk"
   ]
  },
  {
   "cell_type": "code",
   "execution_count": 495,
   "id": "edc28bb4-dbd0-45dc-ad8a-1fb49a8ebdc5",
   "metadata": {},
   "outputs": [],
   "source": [
    "x = 3 + 2\n",
    "# Python husker at x = 5, men ikke hvordan 5 ble laget"
   ]
  },
  {
   "cell_type": "markdown",
   "id": "dee29939-884b-4840-8612-97e95fa33031",
   "metadata": {},
   "source": [
    "### Strenger\n",
    "Verdi som representerer tekst, og som vist tidligere kan den lagres i en variabel"
   ]
  },
  {
   "cell_type": "code",
   "execution_count": 496,
   "id": "df7eaa54-4b95-4ad9-8d19-e43941f34c32",
   "metadata": {},
   "outputs": [
    {
     "name": "stdout",
     "output_type": "stream",
     "text": [
      "foo\n",
      "bar\n"
     ]
    }
   ],
   "source": [
    "# En streng kan lagres i en variabel.\n",
    "foo = 'bar'\n",
    "print('foo')  # 'foo' er en streng (skriver ut: foo)\n",
    "print(foo)    # foo er en variabel (skriver ut: bar)"
   ]
  },
  {
   "cell_type": "markdown",
   "id": "e738363e-8ebb-4b5a-acbb-2ae04536f6de",
   "metadata": {},
   "source": [
    "#### Lengden til en streng, len()"
   ]
  },
  {
   "cell_type": "code",
   "execution_count": 497,
   "id": "43651d4e-513f-44cb-a5d9-f5c43496a1f1",
   "metadata": {},
   "outputs": [
    {
     "name": "stdout",
     "output_type": "stream",
     "text": [
      "3\n"
     ]
    }
   ],
   "source": [
    "x = 'foo'\n",
    "print(len(x))"
   ]
  },
  {
   "cell_type": "markdown",
   "id": "a3ac5d52-9ac9-48af-8eac-ef22c53837b6",
   "metadata": {},
   "source": [
    "#### Kan lime sammen strenger med +\n",
    "viktig å legge merke til forskjell mellom int, og strenger med +. "
   ]
  },
  {
   "cell_type": "code",
   "execution_count": 498,
   "id": "614fedc2-ff0e-46f5-a9a3-54df5478939d",
   "metadata": {},
   "outputs": [
    {
     "name": "stdout",
     "output_type": "stream",
     "text": [
      "foobar\n",
      "superduper\n"
     ]
    }
   ],
   "source": [
    "# Strenger konkateneres (limes sammen) med pluss (+)\n",
    "print('foo' + 'bar') # foobar\n",
    "\n",
    "a = 'super'\n",
    "b = 'duper'\n",
    "c = a + b\n",
    "print(c) # superduper"
   ]
  },
  {
   "cell_type": "code",
   "execution_count": 499,
   "id": "109b834b-527c-4c69-bdc0-a540d688f32b",
   "metadata": {},
   "outputs": [
    {
     "name": "stdout",
     "output_type": "stream",
     "text": [
      "1234\n",
      "46\n"
     ]
    }
   ],
   "source": [
    "# Pluss med strenger: konkatenasjon\n",
    "x = '12'\n",
    "y = '34'\n",
    "print(x + y) # 1234\n",
    "\n",
    "# Pluss med tall: addisjon\n",
    "x = 12\n",
    "y = 34\n",
    "print(x + y) # 46\n"
   ]
  },
  {
   "cell_type": "markdown",
   "id": "03b6817f-08b3-4f0e-9817-332364d59fe4",
   "metadata": {},
   "source": [
    "#### Repterer strenger flere ganger med * og et tall"
   ]
  },
  {
   "cell_type": "code",
   "execution_count": 500,
   "id": "1549eec2-44f1-40be-acb1-821f818764a4",
   "metadata": {},
   "outputs": [
    {
     "name": "stdout",
     "output_type": "stream",
     "text": [
      "*********\n",
      "barbar\n"
     ]
    }
   ],
   "source": [
    "# Strenger repeteres flere ganger med gangesymbol (*) og et tall\n",
    "print('*' * 9) # *********\n",
    "\n",
    "s = 'bar'\n",
    "print(2 * s) # barbar\n"
   ]
  },
  {
   "cell_type": "markdown",
   "id": "4b941f46-3d36-43df-9405-0243df8f5c06",
   "metadata": {},
   "source": [
    "### Input fra terminal\n",
    "Kan klare å lese input fra terminalen, og gi denne videre. Input er alltid en streng, hvis vi skal ha en float, eller int, må vi konvertere stringen. \n"
   ]
  },
  {
   "cell_type": "code",
   "execution_count": 501,
   "id": "d6e0f8cf-5a4c-4c36-912a-f5575dd613d9",
   "metadata": {},
   "outputs": [],
   "source": [
    "# Les input og skriv ut en hilsen\n",
    "# print('Skriv ditt navn')\n",
    "# name = input()\n",
    "# print(f'Hei, {name}!')\n"
   ]
  },
  {
   "cell_type": "code",
   "execution_count": 502,
   "id": "b9466d16-2872-4cc7-87fe-251e53477e2b",
   "metadata": {},
   "outputs": [],
   "source": [
    "# Når input er et tall\n",
    "# print('Skriv et tall') \n",
    "# a = input() # f. eks. 4\n",
    "\n",
    "# print('Skriv et tall til')\n",
    "# b = input() # f. eks. 2\n",
    "\n",
    "# print('Før konvertering er a og b strenger. a + b =', a + b) # 42\n",
    "\n",
    "# Konverterer til tall\n",
    "# a = int(a)\n",
    "# b = int(b)\n",
    "\n",
    "# print('Etter konvertering er a og b heltall. a + b =', a + b) # 6\n"
   ]
  },
  {
   "cell_type": "markdown",
   "id": "e834375c-e6ef-4e32-98a3-0bda42f8d5a8",
   "metadata": {},
   "source": [
    "### Typer"
   ]
  },
  {
   "cell_type": "markdown",
   "id": "c283995d-ec6b-4241-aaf9-978e099bcbac",
   "metadata": {},
   "source": [
    "Enhver verdi har en type, også kalt klasse. Det er en mal for å lage objekter og definerer deres egenskaper og funksjoner. F.eks int, str, list.\n",
    "Kan bruke type til å se hvilken type en verdi har. "
   ]
  },
  {
   "cell_type": "code",
   "execution_count": 503,
   "id": "996f57f2-6531-4b49-91bd-2e1b509c9250",
   "metadata": {},
   "outputs": [
    {
     "name": "stdout",
     "output_type": "stream",
     "text": [
      "Noen elementære typer i Python:\n",
      "<class 'str'>\n",
      "<class 'int'>\n",
      "<class 'float'>\n",
      "<class 'bool'>\n",
      "<class 'NoneType'>\n",
      "<class 'list'>\n",
      "\n",
      "<class 'tuple'>\n",
      "<class 'set'>\n",
      "<class 'dict'>\n"
     ]
    }
   ],
   "source": [
    "print('Noen elementære typer i Python:')\n",
    "print(type('foo'))        # str       (streng/tekst)\n",
    "print(type(2))            # int       (heltall)\n",
    "print(type(2.2))          # float     (flyttall/desimaltall)\n",
    "print(type(True))         # bool      (boolsk verdi; True eller False)\n",
    "print(type(None))         # NoneType  («ingenting» -verdien har egen type)\n",
    "print(type([1, 2, 3, 4])) # list      (en liste av andre verdier)\n",
    "print()\n",
    "print(type((1, 2, 3, 4))) # tuple\n",
    "print(type({1, 2, 3, 4})) # set\n",
    "print(type({1: 2, 3: 4})) # dict\n"
   ]
  },
  {
   "cell_type": "markdown",
   "id": "776d9c87-4107-46a4-99bb-ad73d2eec1c3",
   "metadata": {},
   "source": [
    "#### Eksempel på opprettelse av dict\n",
    "nøkkelen er bokstav, og verdien er liste over ordene på den bokstaven"
   ]
  },
  {
   "cell_type": "code",
   "execution_count": 504,
   "id": "e9bf62f3-cfe1-4f20-9c93-d86276d188fe",
   "metadata": {},
   "outputs": [
    {
     "name": "stdout",
     "output_type": "stream",
     "text": [
      "{'a': ['apple', 'apricot', 'avocado'], 'b': ['banana', 'blueberry'], 'c': ['cherry', 'carrot']}\n"
     ]
    }
   ],
   "source": [
    "word_list=[\"apple\", \"banana\", \"apricot\", \"blueberry\", \"cherry\", \"avocado\", \"carrot\"]\n",
    "\n",
    "#Oppretter en dict\n",
    "letter_dict={}\n",
    "\n",
    "# Iterere gjennom ord og sortere etter startbokstav\n",
    "for word in word_list:\n",
    "    first_letter=word[0] #Finner første bokstav\n",
    "    if first_letter not in letter_dict:\n",
    "        letter_dict[first_letter]=[] # Oppretter ny nøkkel med tom liste\n",
    "    letter_dict[first_letter].append(word) # Legger til ordet i riktig liste\n",
    "\n",
    "print(letter_dict)\n"
   ]
  },
  {
   "cell_type": "markdown",
   "id": "9960d29d-ddf7-4000-a97d-0e1ced5f2c6a",
   "metadata": {},
   "source": [
    "#### Set\n",
    "Når man må jobbe med unike elementer, og/eller ikke kan ha like elementer i en liste, kan bruke til å finne det første like elementet i to lister"
   ]
  },
  {
   "cell_type": "code",
   "execution_count": 505,
   "id": "7afda8b2-2f80-4928-87ef-4e0d9278db51",
   "metadata": {},
   "outputs": [
    {
     "name": "stdout",
     "output_type": "stream",
     "text": [
      "5\n"
     ]
    }
   ],
   "source": [
    "def find_equal_element(list1, list2):\n",
    "    # Konverterer en av listene til et set\n",
    "    set1= set(list1)\n",
    "\n",
    "    # Sjekker elementer i den andre listen mot set.\n",
    "    for num in list2:\n",
    "        if num in set1:\n",
    "            return num # Returnerer det første felles elementet.\n",
    "\n",
    "    # Ingen felles tall \n",
    "    return None \n",
    "\n",
    "liste1 = [1, 2, 3, 4, 5]\n",
    "liste2 = [5, 6, 7, 8]\n",
    "\n",
    "resultat = find_equal_element(liste1, liste2)\n",
    "print(resultat)"
   ]
  },
  {
   "cell_type": "markdown",
   "id": "dd42c8f2-0805-485e-aebe-83336e2617f1",
   "metadata": {},
   "source": [
    "### Operator\n",
    "For å utføre operasjon.\n",
    "Når man sjekker om to heltall er like bruker man ==, dette bør man ikke bruke for float. Siden har desimaltall, som kan føre til små avrundingsfeil. Får to tall som ser like ut, ikke nødvendigvis er like i bineær form.  \n",
    "Bør bruke en epsilon, hvor nærme to tall må være for å være like. Deretter ser vi på absoluttverdien av aviket, hvis forskjellen er mindre enn epsilon, regnes de som like. \n",
    "\n",
    "Bør gjøre slik som dette:"
   ]
  },
  {
   "cell_type": "code",
   "execution_count": 506,
   "id": "8c972ef2-ee6c-4961-8a87-3b7cb6270571",
   "metadata": {},
   "outputs": [
    {
     "name": "stdout",
     "output_type": "stream",
     "text": [
      "False\n"
     ]
    }
   ],
   "source": [
    "print(0.1 + 0.2 == 0.3)  # Output: False\n",
    "# Grunnen er at 0.1 + 0.2 evalueres til 0.30000000000000004"
   ]
  },
  {
   "cell_type": "code",
   "execution_count": 507,
   "id": "88da1004-0434-43fe-9391-524dbb99f12b",
   "metadata": {},
   "outputs": [
    {
     "name": "stdout",
     "output_type": "stream",
     "text": [
      "False\n",
      "True\n"
     ]
    }
   ],
   "source": [
    "def almost_equals(a, b):\n",
    "    epsilon = 0.0000000001\n",
    "    return abs(a - b) < epsilon # abs()-funksjonen gir absolutt-verdien\n",
    "\n",
    "print(0.1 + 0.1 + 0.1 == 0.3)  # False\n",
    "print(almost_equals(0.1 + 0.1 + 0.1, 0.3))  # True\n"
   ]
  },
  {
   "cell_type": "markdown",
   "id": "2ed456a1-7f3c-46ce-8cbc-3334a63acca8",
   "metadata": {},
   "source": [
    "### Sjekke om partall\n",
    "Partall er delelig med 0"
   ]
  },
  {
   "cell_type": "code",
   "execution_count": 508,
   "id": "e0360b3a-4480-4851-8bd3-5def928e01ca",
   "metadata": {},
   "outputs": [
    {
     "name": "stdout",
     "output_type": "stream",
     "text": [
      "42 er et partall: True\n"
     ]
    }
   ],
   "source": [
    "num = 42\n",
    "is_num_even = (num % 2) == 0\n",
    "print(f'{num} er et partall: {is_num_even}')\n"
   ]
  },
  {
   "cell_type": "markdown",
   "id": "1c588a6e-50dc-40d9-8177-ed2f801919ed",
   "metadata": {},
   "source": [
    "### Presedens og assosiativitet\n",
    "Vi leser venstre til høyre hvis vi har like i en kode.\n",
    "Untk er **, den er fra høyre til venstre. \n",
    "\n",
    "Relasjonene (altså ==, !=,  <,  <=,  >,  >=, in not, in, is, is not) assosierer hverken til høyre eller til venstre; dersom man har flere slike i et uttrykk vil de komponeres som en konjunksjon i stedet. For eksempel, -1 < 0 == False vil tolkes som (-1 < 0) and (0 == False), og altså ikke som (-1 < 0) == False. Dette ser vi på som lenkede sammenligninger for korte kompakte uttrykk.\n",
    "\n",
    "Konjuksjon brukes til å kombinere to eller flere uttrykk. \n",
    "\n",
    "<img src=\"image.png\" alt=\"Operatortabell\" width=\"600\">\n",
    "\n"
   ]
  },
  {
   "cell_type": "code",
   "execution_count": 509,
   "id": "c02ee6f2-e80c-4937-b072-b4defac81112",
   "metadata": {},
   "outputs": [
    {
     "name": "stdout",
     "output_type": "stream",
     "text": [
      "True\n",
      "True\n",
      "False\n",
      "\n",
      "True\n",
      "True\n",
      "False\n",
      "\n",
      "True\n",
      "False\n",
      "\n",
      "True\n",
      "a\n"
     ]
    }
   ],
   "source": [
    "# Fort gjort å gjøre feil\n",
    "print(True or True and False) # and høyere prioritet enn False, altså T or F er T.\n",
    "print(not False or True)\n",
    "print(not (False or True))\n",
    "print()\n",
    "print(2 < 3 < 4)\n",
    "print(not 3 < 2 < 1) # Ser på 3 < 2 < 1 før not, dermed blir det T\n",
    "print(not 3 < 2 and 2 < 1) # not 3 < 2 er T, 2<1 er F, T and F er F.\n",
    "print()\n",
    "print('b' in 'box')\n",
    "print('b' in 'box' == True) # (krasjer),dette skjer siden det er en lenket sammenligning \n",
    "('b' in 'box') and ('box' == True) # 'box' == True, dette gir ikke mening. \n",
    "print()\n",
    "print('a' and 'b' in 'box')\n",
    "print('a' or 'z' in 'box') # 'a' returneres siden det er en sann verdi, den er ikke tom. Derfor returneres a."
   ]
  },
  {
   "cell_type": "code",
   "execution_count": 510,
   "id": "703a182d-28d1-4ce8-a938-6c060b176e94",
   "metadata": {},
   "outputs": [
    {
     "name": "stdout",
     "output_type": "stream",
     "text": [
      "x\n",
      "True\n"
     ]
    }
   ],
   "source": [
    "print('x' or 'y' in 'yes')  # Output: 'x', or returnerer den første sannhetsverdien i utrykket.\n",
    "print('' or 'y' in 'yes')   # Output: True"
   ]
  },
  {
   "cell_type": "code",
   "execution_count": 511,
   "id": "775d37f7-64ca-4b5a-ac71-d7dea5fac888",
   "metadata": {},
   "outputs": [
    {
     "name": "stdout",
     "output_type": "stream",
     "text": [
      "True\n",
      "True\n"
     ]
    }
   ],
   "source": [
    "# Lenkede sammenligninger\n",
    "x = 5\n",
    "print(0 < x < 10)\n",
    "print(x > 0 and x < 10)  # Output: True"
   ]
  },
  {
   "cell_type": "code",
   "execution_count": 512,
   "id": "9d672f6e-8859-4dc6-8093-cb0071831f83",
   "metadata": {},
   "outputs": [
    {
     "data": {
      "text/plain": [
       "True"
      ]
     },
     "execution_count": 512,
     "metadata": {},
     "output_type": "execute_result"
    }
   ],
   "source": [
    "-1 < 0 == False\n",
    "(-1 < 0) and (0 == False) # 0 regnes som false i boolske sammenhenger\n"
   ]
  },
  {
   "cell_type": "markdown",
   "id": "2e2aa7c9-a1ac-49ae-865b-49c3381fcd59",
   "metadata": {},
   "source": [
    "#### If/else"
   ]
  },
  {
   "cell_type": "code",
   "execution_count": 513,
   "id": "808d5415-46a8-4071-8398-9b2f87f4ba0e",
   "metadata": {},
   "outputs": [
    {
     "name": "stdout",
     "output_type": "stream",
     "text": [
      "Alder: 20. Dette er en voksen.\n",
      "a\n"
     ]
    }
   ],
   "source": [
    "# Eksempel på uttrykk med betingelse\n",
    "age = 20\n",
    "status = 'et barn' if age < 18 else 'en voksen'\n",
    "print(f'Alder: {age}. Dette er {status}.')  # Alder: 20. Dette er en voksen.\n",
    "\n",
    "# Generelt\n",
    "condition = True  # or False\n",
    "value_if_true = 'a'\n",
    "value_if_false = 'b'\n",
    "result = value_if_true if condition else value_if_false # a if true else false, hvis condition er false, ville b blitt printet.\n",
    "print(result)  # a"
   ]
  },
  {
   "cell_type": "markdown",
   "id": "75fd6363-4f88-4d4d-a113-45968de6ce7d",
   "metadata": {},
   "source": [
    "### Betingelser\n",
    "### If-setninger\n",
    "Når vi lager en kode som kjører når en betingelse er oppfylt (True). For å ta beslutninger eller håndtere forskjellige scenarioer. "
   ]
  },
  {
   "cell_type": "code",
   "execution_count": 514,
   "id": "4a73ffcd-c46e-46b0-aede-f51e82aefc05",
   "metadata": {},
   "outputs": [
    {
     "name": "stdout",
     "output_type": "stream",
     "text": [
      "x er større enn 5\n"
     ]
    }
   ],
   "source": [
    "x = 10\n",
    "if x > 5:  # Sjekker om x er større enn 5\n",
    "    print(\"x er større enn 5\")"
   ]
  },
  {
   "cell_type": "markdown",
   "id": "f8ab291c-7f0e-4d76-9023-4bb58cd87089",
   "metadata": {},
   "source": [
    "### If-else\n",
    "Kjører ulik kode avhengig av resultatet av betingelsene. If kjører bare kode hvis betingelsen er sann, mens if-else lar deg spesifisere hva som skal skje når en betingelse er false. "
   ]
  },
  {
   "cell_type": "code",
   "execution_count": 515,
   "id": "0cdd7521-83ba-49ae-99aa-d8c4da2038b1",
   "metadata": {},
   "outputs": [
    {
     "name": "stdout",
     "output_type": "stream",
     "text": [
      "x er større enn 5\n"
     ]
    }
   ],
   "source": [
    "x = 10\n",
    "\n",
    "if x > 5:\n",
    "    print(\"x er større enn 5\")\n",
    "else:\n",
    "    print(\"x er mindre enn eller lik 5\")"
   ]
  },
  {
   "cell_type": "markdown",
   "id": "bfd87792-17b8-4100-b76e-752f434d726c",
   "metadata": {},
   "source": [
    "### If-elif-else\n",
    "Sjekker flere betingelser etter hverandre, lar deg håndtere flere mulige scenarioer. Kun en av blokkene kjøres når den er True. Sjekker den første blokken først, deretter de resterende.\n",
    "\n",
    "Den siste må være else, og da hvis vi skal legge med en betingelse 'tallet er ikke gyldig', legg den med i else."
   ]
  },
  {
   "cell_type": "code",
   "execution_count": 516,
   "id": "e4f2a6d1-3138-4bf7-b4ed-aaef6f51f6c7",
   "metadata": {},
   "outputs": [
    {
     "name": "stdout",
     "output_type": "stream",
     "text": [
      "Du kan jobbe.\n"
     ]
    }
   ],
   "source": [
    "age = 20\n",
    "#age=int(input())\n",
    "\n",
    "\n",
    "if age < 18:\n",
    "    print(\"Du er for ung.\")\n",
    "elif age < 65:\n",
    "    print(\"Du kan jobbe.\")\n",
    "else:\n",
    "    print(\"Du er pensjonist.\")"
   ]
  },
  {
   "cell_type": "markdown",
   "id": "049ac44a-1a16-4849-97b7-a234f21e09c2",
   "metadata": {},
   "source": [
    "Når en bruker skriver input kan man bruke en try-except"
   ]
  },
  {
   "cell_type": "code",
   "execution_count": 517,
   "id": "66dacc5a-f38e-457c-8286-176738864f68",
   "metadata": {},
   "outputs": [
    {
     "name": "stdout",
     "output_type": "stream",
     "text": [
      "Din alder er 20.\n",
      "Du kan jobbe.\n"
     ]
    }
   ],
   "source": [
    "try:\n",
    "    #age = int(input(\"Skriv inn alderen din: \"))\n",
    "    print(f\"Din alder er {age}.\")\n",
    "\n",
    "    if age < 18:\n",
    "        print(\"Du er for ung.\")\n",
    "    elif age < 65:\n",
    "        print(\"Du kan jobbe.\")\n",
    "    else:\n",
    "        print(\"Du er pensjonist.\")\n",
    "except ValueError:\n",
    "    print(\"Vennligst skriv inn et gyldig tall!\")\n"
   ]
  },
  {
   "cell_type": "markdown",
   "id": "57469e8e-5d72-41d0-ae47-483080125246",
   "metadata": {},
   "source": [
    "### Logiske operasjoner\n",
    "- and returns True if both conditions are True, and returns False otherwise.\n",
    "- or returns True if at least one of the conditions is True, and False otherwise.\n",
    "- not returns True if the condition is False, and vice versa."
   ]
  },
  {
   "cell_type": "markdown",
   "id": "9c9a1456-58e3-447b-a2d5-6d512f034783",
   "metadata": {},
   "source": [
    "#### Truthy og Falsy verdier\n",
    "Jver verdi kan evalueres som Truthy eller Falsy verdier, når den brukes i if-betingelser.\n",
    "Falsy verdier: False, None, 0, 0.0, \"\", [], (), {}.\n",
    "De fleste andre verdier blir sett på som Truthy verdier,"
   ]
  },
  {
   "cell_type": "code",
   "execution_count": 518,
   "id": "f021ac2c-646f-4382-867e-34dc95f01744",
   "metadata": {},
   "outputs": [
    {
     "name": "stdout",
     "output_type": "stream",
     "text": [
      "Alle tall bortsett fra 0 er truthy\n",
      "bool( 2) = True\n",
      "bool( 1) = True\n",
      "bool(-1) = True\n",
      "bool( 0) = False\n",
      "\n",
      "bool( 1.0) = True\n",
      "bool(0.01) = True\n",
      "bool(-0.1) = True\n",
      "bool( 0.0) = False\n",
      "bool(-0.0) = False\n",
      "\n",
      "Alle strenger bortsett fra den tomme strengen er truthy\n",
      "bool( \"True\") = True\n",
      "bool(\"False\") = True\n",
      "bool(    \" \") = True\n",
      "bool(     \"\") = False\n",
      "\n",
      "Alle lister bortsett fra den tomme listen er truthy\n",
      "bool([1, 2, 3]) = True\n",
      "bool([0, 0, 0]) = True\n",
      "bool(  [False]) = True\n",
      "bool(       []) = False\n",
      "\n",
      "Den spesielle verdien None er falsy\n",
      "bool(None) = False\n"
     ]
    }
   ],
   "source": [
    "print('Alle tall bortsett fra 0 er truthy')\n",
    "print(f'{bool( 2) = }') # True\n",
    "print(f'{bool( 1) = }') # True\n",
    "print(f'{bool(-1) = }') # True\n",
    "print(f'{bool( 0) = }') # False\n",
    "print()\n",
    "print(f'{bool( 1.0) = }') # True\n",
    "print(f'{bool(0.01) = }') # True\n",
    "print(f'{bool(-0.1) = }') # True\n",
    "print(f'{bool( 0.0) = }') # False\n",
    "print(f'{bool(-0.0) = }') # False\n",
    "print()\n",
    "print('Alle strenger bortsett fra den tomme strengen er truthy')\n",
    "print(f'{bool( \"True\") = }') # True\n",
    "print(f'{bool(\"False\") = }') # True\n",
    "print(f'{bool(    \" \") = }') # True\n",
    "print(f'{bool(     \"\") = }') # False\n",
    "print()\n",
    "print('Alle lister bortsett fra den tomme listen er truthy')\n",
    "print(f'{bool([1, 2, 3]) = }') # True\n",
    "print(f'{bool([0, 0, 0]) = }') # True\n",
    "print(f'{bool(  [False]) = }') # True\n",
    "print(f'{bool(       []) = }') # False\n",
    "print()\n",
    "print('Den spesielle verdien None er falsy')\n",
    "print(f'{bool(None) = }') # False\n"
   ]
  },
  {
   "cell_type": "markdown",
   "id": "76b3c85e-a0e3-4054-a0f5-df659e554b4a",
   "metadata": {},
   "source": [
    "### Funksjon"
   ]
  }
 ],
 "metadata": {
  "kernelspec": {
   "display_name": "Python 3 (ipykernel)",
   "language": "python",
   "name": "python3"
  },
  "language_info": {
   "codemirror_mode": {
    "name": "ipython",
    "version": 3
   },
   "file_extension": ".py",
   "mimetype": "text/x-python",
   "name": "python",
   "nbconvert_exporter": "python",
   "pygments_lexer": "ipython3",
   "version": "3.13.1"
  }
 },
 "nbformat": 4,
 "nbformat_minor": 5
}
