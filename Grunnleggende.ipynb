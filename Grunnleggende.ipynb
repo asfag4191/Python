{
 "cells": [
  {
   "cell_type": "markdown",
   "id": "240a34b4-6eed-40e7-9ff8-df2b039a78f1",
   "metadata": {},
   "source": [
    "## Grunnleggende\n",
    "## Linjeskift, F-streng, Variabler, Streng, Typer, Operator"
   ]
  },
  {
   "cell_type": "markdown",
   "id": "e8850825-239e-4574-825d-afbbd8e24bd8",
   "metadata": {},
   "source": [
    "### Linjeskift\n",
    "Legg til end=' ' i slutten av print-setningen, kommer ikke linjeskift. "
   ]
  },
  {
   "cell_type": "code",
   "execution_count": 236,
   "id": "ff919041-99aa-41e0-b2ac-313c2ce098e5",
   "metadata": {},
   "outputs": [
    {
     "name": "stdout",
     "output_type": "stream",
     "text": [
      "Hello World 42\n",
      "Hello\n",
      "World\n",
      "HelloWorld42\n"
     ]
    }
   ],
   "source": [
    "# Hello World 42\n",
    "print('Hello', 'World', 40 + 2)\n",
    "\n",
    "# Hello\n",
    "print('Hello')\n",
    "\n",
    "# World\n",
    "print('World')\n",
    "\n",
    "# HelloWorld42\n",
    "print('Hello', end='')\n",
    "print('World', end='')\n",
    "print(40 + 2)"
   ]
  },
  {
   "cell_type": "code",
   "execution_count": 237,
   "id": "6024d9e9-20d3-4970-b79c-6866f79ce3f7",
   "metadata": {},
   "outputs": [
    {
     "name": "stdout",
     "output_type": "stream",
     "text": [
      "Denne strengen\n",
      "inneholder to\n",
      "linjeskift\n",
      "Her 'er' det apostrof\n",
      "Her 'er' det apostrof\n",
      "C:\\mappe\\script.py\n"
     ]
    }
   ],
   "source": [
    "# En streng kan inneholde linjeskift (\\n)\n",
    "print('Denne strengen\\ninneholder to\\nlinjeskift')\n",
    "\n",
    "# En streng kan inneholde apostrof (')\n",
    "print('Her \\'er\\' det apostrof')\n",
    "print(\"Her 'er' det apostrof\")  # bedre løsning: bytt typen anførselstegn\n",
    "\n",
    "# En streng kan inneholde bakstrek (\\)\n",
    "print('C:\\\\mappe\\\\script.py')"
   ]
  },
  {
   "cell_type": "markdown",
   "id": "9f5fc584-99d9-450b-95de-4a645e100594",
   "metadata": {},
   "source": [
    "### F-streng\n",
    "Lar deg inkludere strenger og variabler, på en enkel lesbar måte i en streng.\n",
    "Uten f, vil ikke python tolke innholdet i krøllparantesene som variabler, eller uttrykk, men bare vanlig tekststreng."
   ]
  },
  {
   "cell_type": "code",
   "execution_count": 238,
   "id": "9557dc2d-09bc-48ce-af15-8b349fa0e874",
   "metadata": {},
   "outputs": [
    {
     "name": "stdout",
     "output_type": "stream",
     "text": [
      "Your age is 20\n"
     ]
    }
   ],
   "source": [
    "age = 20\n",
    "print(f'Your age is {age}')"
   ]
  },
  {
   "cell_type": "code",
   "execution_count": 239,
   "id": "28d71931-41e0-4b18-ad42-f056b54fd561",
   "metadata": {},
   "outputs": [
    {
     "name": "stdout",
     "output_type": "stream",
     "text": [
      "Visste du at 2 + 3 er 5?\n"
     ]
    }
   ],
   "source": [
    "x = 2\n",
    "y = 3\n",
    "print(f'Visste du at {x} + {y} er {x + y}?')"
   ]
  },
  {
   "cell_type": "markdown",
   "id": "1ccfbaff-5f8a-4d58-ad63-186e2b014773",
   "metadata": {},
   "source": [
    "### Variabler\n",
    "Plassholder for data som kan brukes til å lagre verdier som kan endres eller gjenbrukes i koden."
   ]
  },
  {
   "cell_type": "code",
   "execution_count": 240,
   "id": "39fa4963-a791-4e61-b8bd-6318bcb07e22",
   "metadata": {},
   "outputs": [
    {
     "name": "stdout",
     "output_type": "stream",
     "text": [
      "Alice\n",
      "25\n"
     ]
    }
   ],
   "source": [
    "# Opprette variabler\n",
    "navn = \"Alice\"  # En streng (tekst)\n",
    "alder = 25      # Et heltall (int)\n",
    "høyde = 1.75    # Et desimaltall (float)\n",
    "er_student = True  # En boolean (True/False)\n",
    "\n",
    "print(navn)  # Output: Alice\n",
    "print(alder)  # Output: 25"
   ]
  },
  {
   "cell_type": "markdown",
   "id": "97e8ac6a-78c1-4b67-b76f-e98f67d03bb5",
   "metadata": {},
   "source": [
    "#### En variabel kan endres når som helst i koden. "
   ]
  },
  {
   "cell_type": "code",
   "execution_count": 241,
   "id": "ebcbc185-c43a-46e0-81e1-b8a131e64263",
   "metadata": {},
   "outputs": [
    {
     "name": "stdout",
     "output_type": "stream",
     "text": [
      "10\n",
      "20\n"
     ]
    }
   ],
   "source": [
    "x = 10\n",
    "print(x)  # Output: 10\n",
    "\n",
    "x = 20\n",
    "print(x)  # Output: 20\n"
   ]
  },
  {
   "cell_type": "markdown",
   "id": "7c96b63a-5d72-4451-86b6-716adc0b7acd",
   "metadata": {},
   "source": [
    "Kan innholde data av ulike typer, slik som heltall,float, liste og dictionary. En dictionary lagrer data i nøkkel-verdi-par. Hente ut data basert på unike nøkler, i stedet for posisjon, slik som i lister."
   ]
  },
  {
   "cell_type": "code",
   "execution_count": 242,
   "id": "5167d699-2ba3-4d45-93ea-2fb3cc3f065e",
   "metadata": {},
   "outputs": [
    {
     "name": "stdout",
     "output_type": "stream",
     "text": [
      "{'navn': 'Alice', 'alder': 25, 'student': True}\n"
     ]
    }
   ],
   "source": [
    "# Eksempel på en dictionary\n",
    "ordbok = {\n",
    "    \"navn\": \"Alice\",  # 'navn' er nøkkelen, \"Alice\" er verdien\n",
    "    \"alder\": 25,      # 'alder' er nøkkelen, 25 er verdien\n",
    "    \"student\": True   # 'student' er nøkkelen, True er verdien\n",
    "}\n",
    "\n",
    "print(ordbok)"
   ]
  },
  {
   "cell_type": "code",
   "execution_count": 243,
   "id": "4cbc6508-c2a4-4405-8b3a-f4bbb4dbeac2",
   "metadata": {},
   "outputs": [
    {
     "name": "stdout",
     "output_type": "stream",
     "text": [
      "Alice\n",
      "25\n"
     ]
    }
   ],
   "source": [
    "# Tilgang til verdier, bruker nøkkelen i []\n",
    "print(ordbok[\"navn\"])   # Output: Alice\n",
    "print(ordbok[\"alder\"])  # Output: 25\n"
   ]
  },
  {
   "cell_type": "markdown",
   "id": "295a43a9-f1b0-452d-881a-772c43266fa7",
   "metadata": {},
   "source": [
    "#### Tilordning, kan tilordnes med alle symbol-operasjonene, og på samme linje"
   ]
  },
  {
   "cell_type": "code",
   "execution_count": 244,
   "id": "31fb6741-9f73-496e-8592-87c3c2423634",
   "metadata": {},
   "outputs": [],
   "source": [
    "x = 42\n",
    "\n",
    "x += 2       # det samme som  x = x + 2\n",
    "x -= 3 - 1   # det samme som  x = x - (3 - 1)\n",
    "x //= 10     # det samme som  x = x // 10\n",
    "x **= 5 // 2 # opphøyes,  x = x ** (5 // 2)\n",
    "x *= 2 + 3   # det samme som  x = x * (2 + 3)\n",
    "x %= 3       # finner resten når x deles på 3.\n",
    "x /= 3       # det samme som  x = x / 3\n"
   ]
  },
  {
   "cell_type": "code",
   "execution_count": 245,
   "id": "d58b4842-7f2c-41ea-a83a-b568a5571792",
   "metadata": {},
   "outputs": [
    {
     "name": "stdout",
     "output_type": "stream",
     "text": [
      "5 5 5\n",
      "2 3\n"
     ]
    }
   ],
   "source": [
    "x = y = z = 5   # alle tre variablene x, y og z refererer nå til verdien 5\n",
    "print(x, y, z)  # 5 5 5\n",
    "\n",
    "a, b = 2, 3     # a refererer nå til verdien 2, b refererer nå til verdien 3\n",
    "print(a, b)     # 2 3\n"
   ]
  },
  {
   "attachments": {},
   "cell_type": "markdown",
   "id": "76cb2d1d-1344-4bb8-92fc-320ca4ec84e2",
   "metadata": {},
   "source": [
    "### Utrykk\n",
    "\n",
    "Alt som kan regnes ut til en verdi. \n",
    "\n",
    "#### Eksempler på uttrykk:\n",
    "\n",
    "#### Enkle verdier:\n",
    "42 (et tall)\n",
    "'Hei verden' (en tekststreng)\n",
    "\n",
    "#### Variabler:\n",
    "x (hvis x allerede har fått en verdi)\n",
    "\n",
    "#### Regnestykker:\n",
    " 3 + 2 (gir verdien 5)\n",
    " y > 5 (gir verdien True eller False avhengig av hva y er)\n",
    "\n",
    "#### Funksjoner:\n",
    " len(x) (gir lengden av en liste eller tekst)\n",
    " min(2, y) (gir det minste tallet mellom 2 og y)\n",
    "\n",
    "#### Kombinasjoner:\n",
    " (len(x) > 5) and (y < 10) (gir True eller False basert på betingelsene)\n",
    " Kort sagt: Et uttrykk er som et \"regnestykke\" Python kan evaluere til én verdi.\n",
    "\n",
    "\n"
   ]
  },
  {
   "cell_type": "markdown",
   "id": "352cbd7f-e75c-4754-814e-014e70c63e92",
   "metadata": {},
   "source": [
    "#### Variabler referer til verdier, ikke utrykk"
   ]
  },
  {
   "cell_type": "code",
   "execution_count": 246,
   "id": "edc28bb4-dbd0-45dc-ad8a-1fb49a8ebdc5",
   "metadata": {},
   "outputs": [],
   "source": [
    "x = 3 + 2\n",
    "# Python husker at x = 5, men ikke hvordan 5 ble laget"
   ]
  },
  {
   "cell_type": "markdown",
   "id": "dee29939-884b-4840-8612-97e95fa33031",
   "metadata": {},
   "source": [
    "### Strenger\n",
    "Verdi som representerer tekst, og som vist tidligere kan den lagres i en variabel"
   ]
  },
  {
   "cell_type": "code",
   "execution_count": 247,
   "id": "df7eaa54-4b95-4ad9-8d19-e43941f34c32",
   "metadata": {},
   "outputs": [
    {
     "name": "stdout",
     "output_type": "stream",
     "text": [
      "foo\n",
      "bar\n"
     ]
    }
   ],
   "source": [
    "# En streng kan lagres i en variabel.\n",
    "foo = 'bar'\n",
    "print('foo')  # 'foo' er en streng (skriver ut: foo)\n",
    "print(foo)    # foo er en variabel (skriver ut: bar)"
   ]
  },
  {
   "cell_type": "markdown",
   "id": "e738363e-8ebb-4b5a-acbb-2ae04536f6de",
   "metadata": {},
   "source": [
    "#### Lengden til en streng, len()"
   ]
  },
  {
   "cell_type": "code",
   "execution_count": 248,
   "id": "43651d4e-513f-44cb-a5d9-f5c43496a1f1",
   "metadata": {},
   "outputs": [
    {
     "name": "stdout",
     "output_type": "stream",
     "text": [
      "3\n"
     ]
    }
   ],
   "source": [
    "x = 'foo'\n",
    "print(len(x))"
   ]
  },
  {
   "cell_type": "markdown",
   "id": "a3ac5d52-9ac9-48af-8eac-ef22c53837b6",
   "metadata": {},
   "source": [
    "#### Kan lime sammen strenger med +\n",
    "viktig å legge merke til forskjell mellom int, og strenger med +. "
   ]
  },
  {
   "cell_type": "code",
   "execution_count": 249,
   "id": "614fedc2-ff0e-46f5-a9a3-54df5478939d",
   "metadata": {},
   "outputs": [
    {
     "name": "stdout",
     "output_type": "stream",
     "text": [
      "foobar\n",
      "superduper\n"
     ]
    }
   ],
   "source": [
    "# Strenger konkateneres (limes sammen) med pluss (+)\n",
    "print('foo' + 'bar') # foobar\n",
    "\n",
    "a = 'super'\n",
    "b = 'duper'\n",
    "c = a + b\n",
    "print(c) # superduper"
   ]
  },
  {
   "cell_type": "code",
   "execution_count": 250,
   "id": "109b834b-527c-4c69-bdc0-a540d688f32b",
   "metadata": {},
   "outputs": [
    {
     "name": "stdout",
     "output_type": "stream",
     "text": [
      "1234\n",
      "46\n"
     ]
    }
   ],
   "source": [
    "# Pluss med strenger: konkatenasjon\n",
    "x = '12'\n",
    "y = '34'\n",
    "print(x + y) # 1234\n",
    "\n",
    "# Pluss med tall: addisjon\n",
    "x = 12\n",
    "y = 34\n",
    "print(x + y) # 46\n"
   ]
  },
  {
   "cell_type": "markdown",
   "id": "03b6817f-08b3-4f0e-9817-332364d59fe4",
   "metadata": {},
   "source": [
    "#### Repterer strenger flere ganger med * og et tall"
   ]
  },
  {
   "cell_type": "code",
   "execution_count": 251,
   "id": "1549eec2-44f1-40be-acb1-821f818764a4",
   "metadata": {},
   "outputs": [
    {
     "name": "stdout",
     "output_type": "stream",
     "text": [
      "*********\n",
      "barbar\n"
     ]
    }
   ],
   "source": [
    "# Strenger repeteres flere ganger med gangesymbol (*) og et tall\n",
    "print('*' * 9) # *********\n",
    "\n",
    "s = 'bar'\n",
    "print(2 * s) # barbar\n"
   ]
  },
  {
   "cell_type": "markdown",
   "id": "4b941f46-3d36-43df-9405-0243df8f5c06",
   "metadata": {},
   "source": [
    "### Input fra terminal\n",
    "Kan klare å lese input fra terminalen, og gi denne videre. Input er alltid en streng, hvis vi skal ha en float, eller int, må vi konvertere stringen. \n"
   ]
  },
  {
   "cell_type": "code",
   "execution_count": 252,
   "id": "d6e0f8cf-5a4c-4c36-912a-f5575dd613d9",
   "metadata": {},
   "outputs": [],
   "source": [
    "# Les input og skriv ut en hilsen\n",
    "# print('Skriv ditt navn')\n",
    "# name = input()\n",
    "# print(f'Hei, {name}!')\n"
   ]
  },
  {
   "cell_type": "code",
   "execution_count": 253,
   "id": "b9466d16-2872-4cc7-87fe-251e53477e2b",
   "metadata": {},
   "outputs": [],
   "source": [
    "# Når input er et tall\n",
    "# print('Skriv et tall') \n",
    "# a = input() # f. eks. 4\n",
    "\n",
    "# print('Skriv et tall til')\n",
    "# b = input() # f. eks. 2\n",
    "\n",
    "# print('Før konvertering er a og b strenger. a + b =', a + b) # 42\n",
    "\n",
    "# Konverterer til tall\n",
    "# a = int(a)\n",
    "# b = int(b)\n",
    "\n",
    "# print('Etter konvertering er a og b heltall. a + b =', a + b) # 6\n"
   ]
  },
  {
   "cell_type": "markdown",
   "id": "e834375c-e6ef-4e32-98a3-0bda42f8d5a8",
   "metadata": {},
   "source": [
    "### Typer"
   ]
  },
  {
   "cell_type": "markdown",
   "id": "c283995d-ec6b-4241-aaf9-978e099bcbac",
   "metadata": {},
   "source": [
    "Enhver verdi har en type, også kalt klasse. Det er en mal for å lage objekter og definerer deres egenskaper og funksjoner. F.eks int, str, list.\n",
    "Kan bruke type til å se hvilken type en verdi har. "
   ]
  },
  {
   "cell_type": "code",
   "execution_count": 254,
   "id": "996f57f2-6531-4b49-91bd-2e1b509c9250",
   "metadata": {},
   "outputs": [
    {
     "name": "stdout",
     "output_type": "stream",
     "text": [
      "Noen elementære typer i Python:\n",
      "<class 'str'>\n",
      "<class 'int'>\n",
      "<class 'float'>\n",
      "<class 'bool'>\n",
      "<class 'NoneType'>\n",
      "<class 'list'>\n",
      "\n",
      "<class 'tuple'>\n",
      "<class 'set'>\n",
      "<class 'dict'>\n"
     ]
    }
   ],
   "source": [
    "print('Noen elementære typer i Python:')\n",
    "print(type('foo'))        # str       (streng/tekst)\n",
    "print(type(2))            # int       (heltall)\n",
    "print(type(2.2))          # float     (flyttall/desimaltall)\n",
    "print(type(True))         # bool      (boolsk verdi; True eller False)\n",
    "print(type(None))         # NoneType  («ingenting» -verdien har egen type)\n",
    "print(type([1, 2, 3, 4])) # list      (en liste av andre verdier)\n",
    "print()\n",
    "print(type((1, 2, 3, 4))) # tuple\n",
    "print(type({1, 2, 3, 4})) # set\n",
    "print(type({1: 2, 3: 4})) # dict\n"
   ]
  },
  {
   "cell_type": "markdown",
   "id": "776d9c87-4107-46a4-99bb-ad73d2eec1c3",
   "metadata": {},
   "source": [
    "#### Eksempel på opprettelse av dict\n",
    "nøkkelen er bokstav, og verdien er liste over ordene på den bokstaven"
   ]
  },
  {
   "cell_type": "code",
   "execution_count": 255,
   "id": "e9bf62f3-cfe1-4f20-9c93-d86276d188fe",
   "metadata": {},
   "outputs": [
    {
     "name": "stdout",
     "output_type": "stream",
     "text": [
      "{'a': ['apple', 'apricot', 'avocado'], 'b': ['banana', 'blueberry'], 'c': ['cherry', 'carrot']}\n"
     ]
    }
   ],
   "source": [
    "word_list=[\"apple\", \"banana\", \"apricot\", \"blueberry\", \"cherry\", \"avocado\", \"carrot\"]\n",
    "\n",
    "#Oppretter en dict\n",
    "letter_dict={}\n",
    "\n",
    "# Iterere gjennom ord og sortere etter startbokstav\n",
    "for word in word_list:\n",
    "    first_letter=word[0] #Finner første bokstav\n",
    "    if first_letter not in letter_dict:\n",
    "        letter_dict[first_letter]=[] # Oppretter ny nøkkel med tom liste\n",
    "    letter_dict[first_letter].append(word) # Legger til ordet i riktig liste\n",
    "\n",
    "print(letter_dict)\n"
   ]
  },
  {
   "cell_type": "markdown",
   "id": "9960d29d-ddf7-4000-a97d-0e1ced5f2c6a",
   "metadata": {},
   "source": [
    "#### Set\n",
    "Når man må jobbe med unike elementer, og/eller ikke kan ha like elementer i en liste, kan bruke til å finne det første like elementet i to lister"
   ]
  },
  {
   "cell_type": "code",
   "execution_count": 256,
   "id": "7afda8b2-2f80-4928-87ef-4e0d9278db51",
   "metadata": {},
   "outputs": [
    {
     "name": "stdout",
     "output_type": "stream",
     "text": [
      "5\n"
     ]
    }
   ],
   "source": [
    "def find_equal_element(list1, list2):\n",
    "    # Konverterer en av listene til et set\n",
    "    set1= set(list1)\n",
    "\n",
    "    # Sjekker elementer i den andre listen mot set.\n",
    "    for num in list2:\n",
    "        if num in set1:\n",
    "            return num # Returnerer det første felles elementet.\n",
    "\n",
    "    # Ingen felles tall \n",
    "    return None \n",
    "\n",
    "liste1 = [1, 2, 3, 4, 5]\n",
    "liste2 = [5, 6, 7, 8]\n",
    "\n",
    "resultat = find_equal_element(liste1, liste2)\n",
    "print(resultat)"
   ]
  },
  {
   "cell_type": "markdown",
   "id": "dd42c8f2-0805-485e-aebe-83336e2617f1",
   "metadata": {},
   "source": [
    "### Operator\n",
    "For å utføre operasjon.\n",
    "Når man sjekker om to heltall er like bruker man ==, dette bør man ikke bruke for float. Siden har desimaltall, som kan føre til små avrundingsfeil. Får to tall som ser like ut, ikke nødvendigvis er like i bineær form.  \n",
    "Bør bruke en epsilon, hvor nærme to tall må være for å være like. Deretter ser vi på absoluttverdien av aviket, hvis forskjellen er mindre enn epsilon, regnes de som like. \n",
    "\n",
    "Bør gjøre slik som dette:"
   ]
  },
  {
   "cell_type": "code",
   "execution_count": 257,
   "id": "8c972ef2-ee6c-4961-8a87-3b7cb6270571",
   "metadata": {},
   "outputs": [
    {
     "name": "stdout",
     "output_type": "stream",
     "text": [
      "False\n"
     ]
    }
   ],
   "source": [
    "print(0.1 + 0.2 == 0.3)  # Output: False\n",
    "# Grunnen er at 0.1 + 0.2 evalueres til 0.30000000000000004"
   ]
  },
  {
   "cell_type": "code",
   "execution_count": 258,
   "id": "88da1004-0434-43fe-9391-524dbb99f12b",
   "metadata": {},
   "outputs": [
    {
     "name": "stdout",
     "output_type": "stream",
     "text": [
      "False\n",
      "True\n"
     ]
    }
   ],
   "source": [
    "def almost_equals(a, b):\n",
    "    epsilon = 0.0000000001\n",
    "    return abs(a - b) < epsilon # abs()-funksjonen gir absolutt-verdien\n",
    "\n",
    "print(0.1 + 0.1 + 0.1 == 0.3)  # False\n",
    "print(almost_equals(0.1 + 0.1 + 0.1, 0.3))  # True\n"
   ]
  },
  {
   "cell_type": "markdown",
   "id": "2ed456a1-7f3c-46ce-8cbc-3334a63acca8",
   "metadata": {},
   "source": [
    "### Sjekke om partall\n",
    "Partall er delelig med 0"
   ]
  },
  {
   "cell_type": "code",
   "execution_count": 259,
   "id": "e0360b3a-4480-4851-8bd3-5def928e01ca",
   "metadata": {},
   "outputs": [
    {
     "name": "stdout",
     "output_type": "stream",
     "text": [
      "42 er et partall: True\n"
     ]
    }
   ],
   "source": [
    "num = 42\n",
    "is_num_even = (num % 2) == 0\n",
    "print(f'{num} er et partall: {is_num_even}')\n"
   ]
  },
  {
   "cell_type": "markdown",
   "id": "1c588a6e-50dc-40d9-8177-ed2f801919ed",
   "metadata": {},
   "source": [
    "### Presedens og assosiativitet\n",
    "Vi leser venstre til høyre hvis vi har like i en kode.\n",
    "Untk er **, den er fra høyre til venstre. \n",
    "\n",
    "Relasjonene (altså ==, !=,  <,  <=,  >,  >=, in not, in, is, is not) assosierer hverken til høyre eller til venstre; dersom man har flere slike i et uttrykk vil de komponeres som en konjunksjon i stedet. For eksempel, -1 < 0 == False vil tolkes som (-1 < 0) and (0 == False), og altså ikke som (-1 < 0) == False. Dette ser vi på som lenkede sammenligninger for korte kompakte uttrykk.\n",
    "\n",
    "Konjuksjon brukes til å kombinere to eller flere uttrykk. \n",
    "\n",
    "<img src=\"image.png\" alt=\"Operatortabell\" width=\"600\">\n",
    "\n"
   ]
  },
  {
   "cell_type": "code",
   "execution_count": 260,
   "id": "c02ee6f2-e80c-4937-b072-b4defac81112",
   "metadata": {},
   "outputs": [
    {
     "name": "stdout",
     "output_type": "stream",
     "text": [
      "True\n",
      "True\n",
      "False\n",
      "\n",
      "True\n",
      "True\n",
      "False\n",
      "\n",
      "True\n",
      "False\n",
      "\n",
      "True\n",
      "a\n"
     ]
    }
   ],
   "source": [
    "# Fort gjort å gjøre feil\n",
    "print(True or True and False) # and høyere prioritet enn False, altså T or F er T.\n",
    "print(not False or True)\n",
    "print(not (False or True))\n",
    "print()\n",
    "print(2 < 3 < 4)\n",
    "print(not 3 < 2 < 1) # Ser på 3 < 2 < 1 før not, dermed blir det T\n",
    "print(not 3 < 2 and 2 < 1) # not 3 < 2 er T, 2<1 er F, T and F er F.\n",
    "print()\n",
    "print('b' in 'box')\n",
    "print('b' in 'box' == True) # (krasjer),dette skjer siden det er en lenket sammenligning \n",
    "('b' in 'box') and ('box' == True) # 'box' == True, dette gir ikke mening. \n",
    "print()\n",
    "print('a' and 'b' in 'box')\n",
    "print('a' or 'z' in 'box') # 'a' returneres siden det er en sann verdi, den er ikke tom. Derfor returneres a."
   ]
  },
  {
   "cell_type": "code",
   "execution_count": 261,
   "id": "703a182d-28d1-4ce8-a938-6c060b176e94",
   "metadata": {},
   "outputs": [
    {
     "name": "stdout",
     "output_type": "stream",
     "text": [
      "x\n",
      "True\n"
     ]
    }
   ],
   "source": [
    "print('x' or 'y' in 'yes')  # Output: 'x', or returnerer den første sannhetsverdien i utrykket.\n",
    "print('' or 'y' in 'yes')   # Output: True"
   ]
  },
  {
   "cell_type": "code",
   "execution_count": 262,
   "id": "775d37f7-64ca-4b5a-ac71-d7dea5fac888",
   "metadata": {},
   "outputs": [
    {
     "name": "stdout",
     "output_type": "stream",
     "text": [
      "True\n",
      "True\n"
     ]
    }
   ],
   "source": [
    "# Lenkede sammenligninger\n",
    "x = 5\n",
    "print(0 < x < 10)\n",
    "print(x > 0 and x < 10)  # Output: True"
   ]
  },
  {
   "cell_type": "code",
   "execution_count": 263,
   "id": "9d672f6e-8859-4dc6-8093-cb0071831f83",
   "metadata": {},
   "outputs": [
    {
     "data": {
      "text/plain": [
       "True"
      ]
     },
     "execution_count": 263,
     "metadata": {},
     "output_type": "execute_result"
    }
   ],
   "source": [
    "-1 < 0 == False\n",
    "(-1 < 0) and (0 == False) # 0 regnes som false i boolske sammenhenger\n"
   ]
  },
  {
   "cell_type": "markdown",
   "id": "2e2aa7c9-a1ac-49ae-865b-49c3381fcd59",
   "metadata": {},
   "source": [
    "#### If else"
   ]
  },
  {
   "cell_type": "code",
   "execution_count": 264,
   "id": "808d5415-46a8-4071-8398-9b2f87f4ba0e",
   "metadata": {},
   "outputs": [
    {
     "name": "stdout",
     "output_type": "stream",
     "text": [
      "Alder: 20. Dette er en voksen.\n",
      "a\n"
     ]
    }
   ],
   "source": [
    "# Eksempel på uttrykk med betingelse\n",
    "age = 20\n",
    "status = 'et barn' if age < 18 else 'en voksen'\n",
    "print(f'Alder: {age}. Dette er {status}.')  # Alder: 20. Dette er en voksen.\n",
    "\n",
    "# Generelt\n",
    "condition = True  # or False\n",
    "value_if_true = 'a'\n",
    "value_if_false = 'b'\n",
    "result = value_if_true if condition else value_if_false # a if true else false, hvis condition er false, ville b blitt printet.\n",
    "print(result)  # a"
   ]
  },
  {
   "cell_type": "code",
   "execution_count": null,
   "id": "a47974f7-8e47-4e44-8876-907fabbae3c2",
   "metadata": {},
   "outputs": [],
   "source": []
  }
 ],
 "metadata": {
  "kernelspec": {
   "display_name": "Python 3 (ipykernel)",
   "language": "python",
   "name": "python3"
  },
  "language_info": {
   "codemirror_mode": {
    "name": "ipython",
    "version": 3
   },
   "file_extension": ".py",
   "mimetype": "text/x-python",
   "name": "python",
   "nbconvert_exporter": "python",
   "pygments_lexer": "ipython3",
   "version": "3.13.1"
  }
 },
 "nbformat": 4,
 "nbformat_minor": 5
}
