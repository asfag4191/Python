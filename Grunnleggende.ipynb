{
 "cells": [
  {
   "cell_type": "markdown",
   "id": "240a34b4-6eed-40e7-9ff8-df2b039a78f1",
   "metadata": {},
   "source": [
    "## Grunnleggende\n",
    "## Linjeskift, F-streng, Variabler, Streng, Typer, Operator\n",
    "\n",
    "#### Innholdfortegnelse\n",
    "[Linjeskift](#Linjeskift)\n",
    "\n",
    "\n",
    "[F-streng](#F-streng)\n",
    "\n",
    "[Variabler](#Variabler)\n",
    "\n",
    "[Strenger](#Strenger)\n",
    "\n",
    "### Lister\n",
    "[Lister](#Lister)\n",
    "- Destruktive funksjoner og fjerning\n",
    "- Slicing\n",
    "\n",
    "[Iterasjon over liste](#Iterasjon-over-liste)\n",
    "- For i in\n",
    "- For i in range(len())\n",
    " \n",
    "[Iterasjon over 2d lister](#Iterasjon-over-2d-lister)\n",
    "\n",
    "[OBS!](#OBS!)\n",
    "- Ting å være obs på i lister\n",
    "\n",
    "----------------------------------------\n",
    "[Input fra terminal](#Input-fra-terminal)\n",
    "\n",
    "[Operator](#Operator)\n",
    "\n",
    "[Presedens og assosiativitet](#Presedens-og-assosiativitet)\n",
    "\n",
    "[Betingelser](#Betingelser)\n",
    "- If/elif/else betingelser\n",
    "\n",
    "[Logiske operasjoner](#Logiske-operasjoner)\n",
    "\n",
    "[Lokker](#Lokker)\n",
    "- While-loop\n",
    "   - Break, Continue\n",
    "- For-løkker\n",
    "- Nøstede-løkker\n",
    "\n",
    "[Funksjon](#Funksjon)\n",
    "\n",
    "[Klasser](#Klasser)\n",
    "\n",
    "[Moduler](#Moduler)\n",
    "\n",
    "[Filer og CSV](#Filer-og-csv)\n",
    "\n",
    "\n"
   ]
  },
  {
   "cell_type": "markdown",
   "id": "e8850825-239e-4574-825d-afbbd8e24bd8",
   "metadata": {},
   "source": [
    "### Linjeskift\n",
    "Legg til end=' ' i slutten av print-setningen, kommer ikke linjeskift. "
   ]
  },
  {
   "cell_type": "code",
   "execution_count": 16,
   "id": "ff919041-99aa-41e0-b2ac-313c2ce098e5",
   "metadata": {},
   "outputs": [
    {
     "name": "stdout",
     "output_type": "stream",
     "text": [
      "Hello World 42\n",
      "Hello\n",
      "World\n",
      "HelloWorld42\n"
     ]
    }
   ],
   "source": [
    "# Hello World 42\n",
    "print('Hello', 'World', 40 + 2)\n",
    "\n",
    "# Hello\n",
    "print('Hello')\n",
    "\n",
    "# World\n",
    "print('World')\n",
    "\n",
    "# HelloWorld42\n",
    "print('Hello', end='')\n",
    "print('World', end='')\n",
    "print(40 + 2)"
   ]
  },
  {
   "cell_type": "code",
   "execution_count": 17,
   "id": "6024d9e9-20d3-4970-b79c-6866f79ce3f7",
   "metadata": {},
   "outputs": [
    {
     "name": "stdout",
     "output_type": "stream",
     "text": [
      "Denne strengen\n",
      "inneholder to\n",
      "linjeskift\n",
      "Her 'er' det apostrof\n",
      "Her 'er' det apostrof\n",
      "C:\\mappe\\script.py\n"
     ]
    }
   ],
   "source": [
    "# En streng kan inneholde linjeskift (\\n)\n",
    "print('Denne strengen\\ninneholder to\\nlinjeskift')\n",
    "\n",
    "# En streng kan inneholde apostrof (')\n",
    "print('Her \\'er\\' det apostrof')\n",
    "print(\"Her 'er' det apostrof\")  # bedre løsning: bytt typen anførselstegn\n",
    "\n",
    "# En streng kan inneholde bakstrek (\\)\n",
    "print('C:\\\\mappe\\\\script.py')"
   ]
  },
  {
   "cell_type": "markdown",
   "id": "9f5fc584-99d9-450b-95de-4a645e100594",
   "metadata": {},
   "source": [
    "### F-streng\n",
    "Lar deg inkludere strenger og variabler, på en enkel lesbar måte i en streng.\n",
    "Uten f, vil ikke python tolke innholdet i krøllparantesene som variabler, eller uttrykk, men bare vanlig tekststreng."
   ]
  },
  {
   "cell_type": "code",
   "execution_count": 18,
   "id": "9557dc2d-09bc-48ce-af15-8b349fa0e874",
   "metadata": {},
   "outputs": [
    {
     "name": "stdout",
     "output_type": "stream",
     "text": [
      "Your age is 20\n"
     ]
    }
   ],
   "source": [
    "age = 20\n",
    "print(f'Your age is {age}')"
   ]
  },
  {
   "cell_type": "code",
   "execution_count": 19,
   "id": "28d71931-41e0-4b18-ad42-f056b54fd561",
   "metadata": {},
   "outputs": [
    {
     "name": "stdout",
     "output_type": "stream",
     "text": [
      "Visste du at 2 + 3 er 5?\n"
     ]
    }
   ],
   "source": [
    "x = 2\n",
    "y = 3\n",
    "print(f'Visste du at {x} + {y} er {x + y}?')"
   ]
  },
  {
   "cell_type": "markdown",
   "id": "cb06831c-6026-484d-b79e-728071975273",
   "metadata": {},
   "source": [
    "### Immutable og mutable typer\n",
    "\n",
    "Immutable, kan ikke endres etter de er opprettet. \n",
    "Har da: int, float, str, tuple, bool\n",
    "\n",
    "Mutable, kan endres etter de er opprettet.\n",
    "Har da: list, dict, set"
   ]
  },
  {
   "cell_type": "code",
   "execution_count": 20,
   "id": "14abc530-be06-4478-b6cb-806efc93ee35",
   "metadata": {},
   "outputs": [],
   "source": [
    "x = 10  # En integer er immutable\n",
    "x = x + 5  # Dette oppretter et nytt objekt, x peker nå til det nye objektet 15\n",
    "\n",
    "string = \"hei\"  # En streng er immutable\n",
    "#string[0] = \"H\"  # Feil! Du kan ikke endre en streng direkte\n"
   ]
  },
  {
   "cell_type": "code",
   "execution_count": 21,
   "id": "65a987e9-2b5f-419a-a0c6-4059dbab1c41",
   "metadata": {},
   "outputs": [
    {
     "name": "stdout",
     "output_type": "stream",
     "text": [
      "[10, 2, 3]\n",
      "{'navn': 'Alice', 'alder': 30}\n"
     ]
    }
   ],
   "source": [
    "# Liste er mutable\n",
    "my_list = [1, 2, 3]\n",
    "my_list[0] = 10  # Du kan endre innholdet direkte\n",
    "print(my_list)  # Output: [10, 2, 3]\n",
    "\n",
    "# Dictionary er mutable\n",
    "my_dict = {\"navn\": \"Alice\", \"alder\": 25}\n",
    "my_dict[\"alder\"] = 30  # Endrer verdien for nøkkelen \"alder\"\n",
    "print(my_dict)  # Output: {'navn': 'Alice', 'alder': 30}"
   ]
  },
  {
   "cell_type": "markdown",
   "id": "1ccfbaff-5f8a-4d58-ad63-186e2b014773",
   "metadata": {},
   "source": [
    "### Variabler\n",
    "Plassholder for data som kan brukes til å lagre verdier som kan endres eller gjenbrukes i koden."
   ]
  },
  {
   "cell_type": "code",
   "execution_count": 22,
   "id": "39fa4963-a791-4e61-b8bd-6318bcb07e22",
   "metadata": {},
   "outputs": [
    {
     "name": "stdout",
     "output_type": "stream",
     "text": [
      "Alice\n",
      "25\n"
     ]
    }
   ],
   "source": [
    "# Opprette variabler\n",
    "navn = \"Alice\"  # En streng (tekst)\n",
    "alder = 25      # Et heltall (int)\n",
    "høyde = 1.75    # Et desimaltall (float)\n",
    "er_student = True  # En boolean (True/False)\n",
    "\n",
    "print(navn)  # Output: Alice\n",
    "print(alder)  # Output: 25"
   ]
  },
  {
   "cell_type": "markdown",
   "id": "97e8ac6a-78c1-4b67-b76f-e98f67d03bb5",
   "metadata": {},
   "source": [
    "#### En variabel kan endres når som helst i koden. "
   ]
  },
  {
   "cell_type": "code",
   "execution_count": 23,
   "id": "ebcbc185-c43a-46e0-81e1-b8a131e64263",
   "metadata": {},
   "outputs": [
    {
     "name": "stdout",
     "output_type": "stream",
     "text": [
      "10\n",
      "20\n"
     ]
    }
   ],
   "source": [
    "x = 10\n",
    "print(x)  # Output: 10\n",
    "\n",
    "x = 20\n",
    "print(x)  # Output: 20\n"
   ]
  },
  {
   "cell_type": "markdown",
   "id": "7c96b63a-5d72-4451-86b6-716adc0b7acd",
   "metadata": {},
   "source": [
    "Kan innholde data av ulike typer, slik som heltall,float, liste og dictionary. En dictionary lagrer data i nøkkel-verdi-par. Hente ut data basert på unike nøkler, i stedet for posisjon, slik som i lister."
   ]
  },
  {
   "cell_type": "code",
   "execution_count": 24,
   "id": "5167d699-2ba3-4d45-93ea-2fb3cc3f065e",
   "metadata": {},
   "outputs": [
    {
     "name": "stdout",
     "output_type": "stream",
     "text": [
      "{'navn': 'Alice', 'alder': 25, 'student': True}\n"
     ]
    }
   ],
   "source": [
    "# Eksempel på en dictionary\n",
    "ordbok = {\n",
    "    \"navn\": \"Alice\",  # 'navn' er nøkkelen, \"Alice\" er verdien\n",
    "    \"alder\": 25,      # 'alder' er nøkkelen, 25 er verdien\n",
    "    \"student\": True   # 'student' er nøkkelen, True er verdien\n",
    "}\n",
    "\n",
    "print(ordbok)"
   ]
  },
  {
   "cell_type": "code",
   "execution_count": 25,
   "id": "4cbc6508-c2a4-4405-8b3a-f4bbb4dbeac2",
   "metadata": {},
   "outputs": [
    {
     "name": "stdout",
     "output_type": "stream",
     "text": [
      "Alice\n",
      "25\n"
     ]
    }
   ],
   "source": [
    "# Tilgang til verdier, bruker nøkkelen i []\n",
    "print(ordbok[\"navn\"])   # Output: Alice\n",
    "print(ordbok[\"alder\"])  # Output: 25\n"
   ]
  },
  {
   "cell_type": "markdown",
   "id": "295a43a9-f1b0-452d-881a-772c43266fa7",
   "metadata": {},
   "source": [
    "#### Tilordning, kan tilordnes med alle symbol-operasjonene, og på samme linje"
   ]
  },
  {
   "cell_type": "code",
   "execution_count": 26,
   "id": "31fb6741-9f73-496e-8592-87c3c2423634",
   "metadata": {},
   "outputs": [],
   "source": [
    "x = 42\n",
    "\n",
    "x += 2       # det samme som  x = x + 2\n",
    "x -= 3 - 1   # det samme som  x = x - (3 - 1)\n",
    "x //= 10     # det samme som  x = x // 10\n",
    "x **= 5 // 2 # opphøyes,  x = x ** (5 // 2)\n",
    "x *= 2 + 3   # det samme som  x = x * (2 + 3)\n",
    "x %= 3       # finner resten når x deles på 3.\n",
    "x /= 3       # det samme som  x = x / 3\n"
   ]
  },
  {
   "cell_type": "code",
   "execution_count": 27,
   "id": "d58b4842-7f2c-41ea-a83a-b568a5571792",
   "metadata": {},
   "outputs": [
    {
     "name": "stdout",
     "output_type": "stream",
     "text": [
      "5 5 5\n",
      "2 3\n"
     ]
    }
   ],
   "source": [
    "x = y = z = 5   # alle tre variablene x, y og z refererer nå til verdien 5\n",
    "print(x, y, z)  # 5 5 5\n",
    "\n",
    "a, b = 2, 3     # a refererer nå til verdien 2, b refererer nå til verdien 3\n",
    "print(a, b)     # 2 3\n"
   ]
  },
  {
   "attachments": {},
   "cell_type": "markdown",
   "id": "76cb2d1d-1344-4bb8-92fc-320ca4ec84e2",
   "metadata": {},
   "source": [
    "### Utrykk\n",
    "\n",
    "Alt som kan regnes ut til en verdi. \n",
    "\n",
    "#### Eksempler på uttrykk:\n",
    "\n",
    "#### Enkle verdier:\n",
    "42 (et tall)\n",
    "'Hei verden' (en tekststreng)\n",
    "\n",
    "#### Variabler:\n",
    "x (hvis x allerede har fått en verdi)\n",
    "\n",
    "#### Regnestykker:\n",
    " 3 + 2 (gir verdien 5)\n",
    " y > 5 (gir verdien True eller False avhengig av hva y er)\n",
    "\n",
    "#### Funksjoner:\n",
    " len(x) (gir lengden av en liste eller tekst)\n",
    " min(2, y) (gir det minste tallet mellom 2 og y)\n",
    "\n",
    "#### Kombinasjoner:\n",
    " (len(x) > 5) and (y < 10) (gir True eller False basert på betingelsene)\n",
    " Kort sagt: Et uttrykk er som et \"regnestykke\" Python kan evaluere til én verdi.\n",
    "\n",
    "\n"
   ]
  },
  {
   "cell_type": "markdown",
   "id": "352cbd7f-e75c-4754-814e-014e70c63e92",
   "metadata": {},
   "source": [
    "#### Variabler referer til verdier, ikke utrykk"
   ]
  },
  {
   "cell_type": "code",
   "execution_count": 28,
   "id": "edc28bb4-dbd0-45dc-ad8a-1fb49a8ebdc5",
   "metadata": {},
   "outputs": [],
   "source": [
    "x = 3 + 2\n",
    "# Python husker at x = 5, men ikke hvordan 5 ble laget"
   ]
  },
  {
   "cell_type": "markdown",
   "id": "dee29939-884b-4840-8612-97e95fa33031",
   "metadata": {},
   "source": [
    "### Strenger\n",
    "Verdi som representerer tekst, og som vist tidligere kan den lagres i en variabel"
   ]
  },
  {
   "cell_type": "code",
   "execution_count": 29,
   "id": "df7eaa54-4b95-4ad9-8d19-e43941f34c32",
   "metadata": {},
   "outputs": [
    {
     "name": "stdout",
     "output_type": "stream",
     "text": [
      "foo\n",
      "bar\n"
     ]
    }
   ],
   "source": [
    "# En streng kan lagres i en variabel.\n",
    "foo = 'bar'\n",
    "print('foo')  # 'foo' er en streng (skriver ut: foo)\n",
    "print(foo)    # foo er en variabel (skriver ut: bar)"
   ]
  },
  {
   "cell_type": "markdown",
   "id": "e738363e-8ebb-4b5a-acbb-2ae04536f6de",
   "metadata": {},
   "source": [
    "#### Lengden til en streng, len()"
   ]
  },
  {
   "cell_type": "code",
   "execution_count": 30,
   "id": "43651d4e-513f-44cb-a5d9-f5c43496a1f1",
   "metadata": {},
   "outputs": [
    {
     "name": "stdout",
     "output_type": "stream",
     "text": [
      "3\n"
     ]
    }
   ],
   "source": [
    "x = 'foo'\n",
    "print(len(x))"
   ]
  },
  {
   "cell_type": "markdown",
   "id": "a3ac5d52-9ac9-48af-8eac-ef22c53837b6",
   "metadata": {},
   "source": [
    "#### Kan lime sammen strenger med +\n",
    "viktig å legge merke til forskjell mellom int, og strenger med +. "
   ]
  },
  {
   "cell_type": "code",
   "execution_count": 31,
   "id": "614fedc2-ff0e-46f5-a9a3-54df5478939d",
   "metadata": {},
   "outputs": [
    {
     "name": "stdout",
     "output_type": "stream",
     "text": [
      "foobar\n",
      "superduper\n"
     ]
    }
   ],
   "source": [
    "# Strenger konkateneres (limes sammen) med pluss (+)\n",
    "print('foo' + 'bar') # foobar\n",
    "\n",
    "a = 'super'\n",
    "b = 'duper'\n",
    "c = a + b\n",
    "print(c) # superduper"
   ]
  },
  {
   "cell_type": "code",
   "execution_count": 32,
   "id": "109b834b-527c-4c69-bdc0-a540d688f32b",
   "metadata": {},
   "outputs": [
    {
     "name": "stdout",
     "output_type": "stream",
     "text": [
      "1234\n",
      "46\n"
     ]
    }
   ],
   "source": [
    "# Pluss med strenger: konkatenasjon\n",
    "x = '12'\n",
    "y = '34'\n",
    "print(x + y) # 1234\n",
    "\n",
    "# Pluss med tall: addisjon\n",
    "x = 12\n",
    "y = 34\n",
    "print(x + y) # 46\n"
   ]
  },
  {
   "cell_type": "markdown",
   "id": "03b6817f-08b3-4f0e-9817-332364d59fe4",
   "metadata": {},
   "source": [
    "#### Repterer strenger flere ganger med * og et tall"
   ]
  },
  {
   "cell_type": "code",
   "execution_count": 33,
   "id": "1549eec2-44f1-40be-acb1-821f818764a4",
   "metadata": {},
   "outputs": [
    {
     "name": "stdout",
     "output_type": "stream",
     "text": [
      "*********\n",
      "barbar\n"
     ]
    }
   ],
   "source": [
    "# Strenger repeteres flere ganger med gangesymbol (*) og et tall\n",
    "print('*' * 9) # *********\n",
    "\n",
    "s = 'bar'\n",
    "print(2 * s) # barbar\n"
   ]
  },
  {
   "cell_type": "markdown",
   "id": "7b88c388-32fc-4317-bbcc-be8ac17af25b",
   "metadata": {},
   "source": [
    "#### Slicing"
   ]
  },
  {
   "cell_type": "code",
   "execution_count": 34,
   "id": "c2d911a8-f5b8-4c1d-88a6-5a7c4e780600",
   "metadata": {},
   "outputs": [
    {
     "name": "stdout",
     "output_type": "stream",
     "text": [
      "abcdefgh\n",
      "abc\n",
      "bc\n",
      "\n",
      "c\n",
      "\n",
      "---\n"
     ]
    }
   ],
   "source": [
    "s = \"abcdefgh\"\n",
    "print(s)       # abcdefgh\n",
    "print(s[0:3])  # abc\n",
    "print(s[1:3])  # bc\n",
    "print()\n",
    "\n",
    "print(s[2:3])  # c\n",
    "print(s[3:3])  #         (ingenting -- dette er den tomme strengen (''))\n",
    "print(\"---\")"
   ]
  },
  {
   "cell_type": "markdown",
   "id": "f802eb7d-ec0a-4f3c-abd0-374002681dbf",
   "metadata": {},
   "source": [
    "##### Beskjæring med default verdier"
   ]
  },
  {
   "cell_type": "code",
   "execution_count": 35,
   "id": "b3bd5f10-bfa9-449e-9b08-d51e7e9437c6",
   "metadata": {},
   "outputs": [
    {
     "name": "stdout",
     "output_type": "stream",
     "text": [
      "abcdefgh\n",
      "defgh\n",
      "abc\n",
      "abcdefgh\n",
      "---\n"
     ]
    }
   ],
   "source": [
    "s = \"abcdefgh\"\n",
    "print(s)       # abcdefgh\n",
    "print(s[3:])   # defgh\n",
    "print(s[:3])   # abc\n",
    "print(s[:])    # abcdefgh\n",
    "print(\"---\")"
   ]
  },
  {
   "cell_type": "markdown",
   "id": "26f89b7a-5aab-4161-8e9e-eea4f1e33eba",
   "metadata": {},
   "source": [
    "##### Beskjæring med steg"
   ]
  },
  {
   "cell_type": "code",
   "execution_count": 36,
   "id": "06ee49c4-7859-4ec8-9b92-6230ef2b5557",
   "metadata": {},
   "outputs": [
    {
     "name": "stdout",
     "output_type": "stream",
     "text": [
      "abcdefgh\n",
      "bdf\n",
      "be\n",
      "---\n",
      "aceg\n",
      "aceg\n",
      "bdfh\n",
      "---\n",
      "dcb\n",
      "---\n"
     ]
    }
   ],
   "source": [
    "# For en streng s vil s[<start>:<slutt>:<steg>] beskjære strengen\n",
    "# ved å begynne med tegnet på indeks <start>, og gå opp til og ikke\n",
    "# inkludert <slutt> med avstand på <steg>\n",
    "\n",
    "s = \"abcdefgh\"\n",
    "print(s)             # abcdefgh\n",
    "print(s[1:7:2])      # bdf\n",
    "print(s[1:7:3])      # be\n",
    "print(\"---\")\n",
    "print(s[0:len(s):2]) # aceg\n",
    "print(s[::2])        # aceg\n",
    "print(s[1::2])       # bdfh\n",
    "print(\"---\")\n",
    "print(s[3:0:-1])     # dcb\n",
    "print(\"---\")"
   ]
  },
  {
   "cell_type": "markdown",
   "id": "4b941f46-3d36-43df-9405-0243df8f5c06",
   "metadata": {},
   "source": [
    "### Lister\n",
    "Tenker på det som en samling av verdier, bør tenke på det som en samling av referanser til verdier.\n",
    "Kan hente enkelt verdier ved bruk av indeksering. 0 er det første elementet og -1 er det siste elementet. \n",
    "\n",
    "##### Mutere liste\n",
    "Det er mulig å endre på en liste uten å opprette en ny verdi i minnet. Altså listen kan endres uten å måtte lage en helt ny liste. Vi oppretter ikke en kopi, men det skjer i samme listen. \n",
    "\n",
    "##### Alias\n",
    "Når nå variabler peker på samme liste, aliaser for hverandre. \n",
    "Flere variabler peker til samme objekt i minnet. \n",
    "Kan benytte is, is not operatorene for å sjekke om to variabler er aliaser for samme objekt. \n",
    "\n",
    "##### Destruktive funksjoner\n",
    "Dersom funksjonen muterer parameteren, vil det også påvirke den opprinnelige variabelen (aliaset). Vi kaller slike funksjoner for destruktive funksjoner, siden de «ødelegger» (muterer) verdiene den blir gitt som argument.\n",
    "\n",
    "##### Destruktiv fjerning\n",
    "Destruktiv fjerning vil si at listen i minnet blir direkte endret når du utfører en operasjon som fjerner eller endrer innholdet. Dette skjer når vi f.eks bruker pop. For å unngå destruktiv fjerning kan vi lage en ny liste hvor det er her den fjernede verdien forekommer. Altså kan f.eks lage en kopi av den opprinnelige listen i en annnen verdi. Lage kopi: b = a[:], eller b = list(a)"
   ]
  },
  {
   "cell_type": "code",
   "execution_count": 37,
   "id": "1e39770f-cae2-4e1a-8824-5d41c070fcb4",
   "metadata": {},
   "outputs": [
    {
     "name": "stdout",
     "output_type": "stream",
     "text": [
      "[42, 'foo', 'foo']\n",
      "foobar\n"
     ]
    }
   ],
   "source": [
    "#Eksempel på muterbarhet\n",
    "a = [42, 95, 'foo']\n",
    "x = a[2]\n",
    "a[1] = x\n",
    "x += 'bar'\n",
    "\n",
    "print(a) # [42, 'foo', 'foo']\n",
    "print(x) # foobar"
   ]
  },
  {
   "cell_type": "code",
   "execution_count": 38,
   "id": "42c5b280-bed2-4f72-80f7-010b700955ee",
   "metadata": {},
   "outputs": [
    {
     "name": "stdout",
     "output_type": "stream",
     "text": [
      "[42, 95, 'foo']\n",
      "[42, 95, 'foo']\n",
      "[95, 'foo', 'foo']\n",
      "[95, 'foo', 'foo']\n",
      "først:\n",
      "       a: [2, 3, 5, 7]\n",
      "       b: [2, 3, 5, 7]\n",
      "       c: [2, 3, 5, 7]\n",
      "== -operatoren forteller hvorvidt to verdier er LIKE\n",
      "  a == b: True\n",
      "  a == c: True\n",
      "is -operatoren forteller hvorvidt to verdier er DEN SAMME\n",
      "  a is b: True\n",
      "  a is c: False\n",
      "\n",
      "\n",
      "etter mutasjonen a[0] = 42\n",
      "       a: [42, 3, 5, 7]\n",
      "       b: [42, 3, 5, 7]\n",
      "       c: [2, 3, 5, 7]\n",
      "  a == b: True\n",
      "  a == c: False\n",
      "  a is b: True\n",
      "  a is c: False\n"
     ]
    }
   ],
   "source": [
    "a = [42, 95, 'foo']\n",
    "b = a                # b er nå et alias for a\n",
    "\n",
    "print(a) # [42, 95, 'foo']\n",
    "print(b) # [42, 95, 'foo']\n",
    "\n",
    "a[1] = 'foo'         # vi muterer a\n",
    "b[0] = 95            # vi muterer b\n",
    "\n",
    "# Begge mutasjoner reflekteres i begge aliasene\n",
    "print(a) # [95, 'foo', 'foo']\n",
    "print(b) # [95, 'foo', 'foo']\n",
    "\n",
    "#is og is not\n",
    "# Opprett en liste\n",
    "a = [2, 3, 5, 7]\n",
    "\n",
    "# Opprett et alias for listen\n",
    "b = a\n",
    "\n",
    "# Opprett en ny liste med de samme elementene\n",
    "c = [2, 3, 5, 7]\n",
    "\n",
    "# a og b er referanser til (/aliaser for) DEN SAMME listen\n",
    "# c er en referanse til en annen, men LIK liste\n",
    "\n",
    "print(\"først:\")\n",
    "print(\"       a:\", a)\n",
    "print(\"       b:\", b)\n",
    "print(\"       c:\", c)\n",
    "print(\"== -operatoren forteller hvorvidt to verdier er LIKE\")\n",
    "print(\"  a == b:\", a == b) # True\n",
    "print(\"  a == c:\", a == c) # True\n",
    "print(\"is -operatoren forteller hvorvidt to verdier er DEN SAMME\")\n",
    "print(\"  a is b:\", a is b) # True\n",
    "print(\"  a is c:\", a is c) # False\n",
    "print(\"\\n\")\n",
    "\n",
    "# Mutasjon av a endrer også b (DEN SAMME listen) men ikke c (en annen liste)\n",
    "a[0] = 42\n",
    "print(\"etter mutasjonen a[0] = 42\")\n",
    "print(\"       a:\", a) # [42, 3, 5, 7]\n",
    "print(\"       b:\", b) # [42, 3, 5, 7]\n",
    "print(\"       c:\", c) # [2, 3, 5, 7]\n",
    "print(\"  a == b:\", a==b) # True\n",
    "print(\"  a == c:\", a==c) # False\n",
    "print(\"  a is b:\", a is b) # True\n",
    "print(\"  a is c:\", a is c) # False"
   ]
  },
  {
   "cell_type": "code",
   "execution_count": 39,
   "id": "9dd02b30-8939-49ea-97af-14baa17cbe22",
   "metadata": {},
   "outputs": [
    {
     "name": "stdout",
     "output_type": "stream",
     "text": [
      "Destruktiv:\n",
      "[2, 3, 4]\n",
      "[2, 3, 4]\n",
      "Ikke-destruktiv:\n",
      "[2, 3, 4]\n",
      "[2, 3]\n"
     ]
    }
   ],
   "source": [
    "print(\"Destruktiv:\")\n",
    "a = [2, 3]\n",
    "b = a           # lager alias\n",
    "a += [4]\n",
    "print(a)\n",
    "print(b)\n",
    "\n",
    "print(\"Ikke-destruktiv:\")\n",
    "a = [2, 3]\n",
    "b = a           # lager alias\n",
    "a = a + [4]   # bryter aliaset med b, a er nå referanse til ny liste\n",
    "print(a)\n",
    "print(b)"
   ]
  },
  {
   "cell_type": "code",
   "execution_count": 40,
   "id": "474ddbd9-4962-4e65-b020-2688fd971e0d",
   "metadata": {},
   "outputs": [],
   "source": [
    "#Eksempel på destruktiv funksjon\n",
    "def my_function(a_param):\n",
    "    ... # a_var og a_param er aliaser når vi kommer hit\n",
    "\n",
    "a_var = [42, 95, 'foo']\n",
    "my_function(a_var)"
   ]
  },
  {
   "cell_type": "markdown",
   "id": "3e5d4865-8625-4a33-867e-fd462f08bd8f",
   "metadata": {},
   "source": [
    "#### Slicing\n",
    "\n",
    "Når man får tilgang til spesielle deler av en liste (eller andre sekvenser slik som strenger og tupler).  \n",
    "\n",
    "Beskjæring a[start:slutt] eller a[start:slutt:steg]"
   ]
  },
  {
   "cell_type": "markdown",
   "id": "f6e6a564-c53f-4cb6-9fc1-76bfa94ca160",
   "metadata": {},
   "source": [
    "### Iterasjon over liste\n",
    "##### for-in løkke\n",
    "Løkken itererer direkte over elementene i listen snowfall.\n",
    "Variabelen i representerer verdien til hvert element i listen for hver iterasjon.\n",
    "Vi får tilgang til verdiene en etter en uten bruk av indeksering.\n",
    "\n",
    "Den er god å bruke når man skal kun rett frem, men får ikke tilgang til indeksen for hvert element."
   ]
  },
  {
   "cell_type": "code",
   "execution_count": 41,
   "id": "cbdae278-b7b6-47f1-a790-fd210946edc9",
   "metadata": {},
   "outputs": [
    {
     "name": "stdout",
     "output_type": "stream",
     "text": [
      "0.3\n",
      "0.0\n",
      "0.0\n",
      "1.2\n",
      "3.9\n",
      "2.2\n",
      "0.8\n"
     ]
    }
   ],
   "source": [
    "# for-in løkke\n",
    "snowfall = [0.3, 0.0, 0.0, 1.2, 3.9, 2.2, 0.8]\n",
    "\n",
    "for i in snowfall:\n",
    "    #print(f'{i}:{snowfall[i]}') kan da ikke bruke denne siden har ikke indeksering\n",
    "    print(i)\n",
    "\n"
   ]
  },
  {
   "cell_type": "markdown",
   "id": "c948f898-8fe0-4ff1-bac4-f51e87ad465f",
   "metadata": {},
   "source": [
    "##### for-in løkke med range(len())\n",
    "Den er grei å bruke når du skal oppdatere listen, eller trenger både indeksen og verdien samtidig. Nyttig å bruke hvis du trenger indeksen videre, og i tilfeller du trenger indeksne og verdien samtidig. \n",
    "\n",
    "Variabelen i representerer indeksen til hvert element.\n",
    "For hver iterasjon brukes indeksen i til å hente verdien i listen ved hjelp av snowfall[i].\n",
    "\n",
    "Når du bruker en for-løkke med range(len(a)), forventer Python at listen forblir uendret i løpet av iterasjonen."
   ]
  },
  {
   "cell_type": "code",
   "execution_count": 42,
   "id": "97a50f77-1e56-4ee9-b0aa-f5619e5c3984",
   "metadata": {},
   "outputs": [
    {
     "name": "stdout",
     "output_type": "stream",
     "text": [
      "0:0.3\n",
      "1:0.0\n",
      "2:0.0\n",
      "3:1.2\n",
      "4:3.9\n",
      "5:2.2\n",
      "6:0.8\n"
     ]
    }
   ],
   "source": [
    "snowfall = [0.3, 0.0, 0.0, 1.2, 3.9, 2.2, 0.8]\n",
    "\n",
    "for i in range(len(snowfall)):\n",
    "    print(f'{i}:{snowfall[i]}') #kan da bruke denne siden vi har indekseringen\n"
   ]
  },
  {
   "cell_type": "markdown",
   "id": "3f970c28-1a42-4656-acd1-724784b7ef65",
   "metadata": {},
   "source": [
    "### Iterasjon over 2d lister\n"
   ]
  },
  {
   "cell_type": "code",
   "execution_count": 43,
   "id": "f4b19fd5-69f6-4432-a0ba-a59c13b873a6",
   "metadata": {},
   "outputs": [
    {
     "name": "stdout",
     "output_type": "stream",
     "text": [
      "Element at (0, 0): 1\n",
      "Element at (0, 1): 2\n",
      "Element at (0, 2): 3\n",
      "Element at (1, 0): 4\n",
      "Element at (1, 1): 5\n",
      "Element at (1, 2): 6\n",
      "Element at (2, 0): 7\n",
      "Element at (2, 1): 8\n",
      "Element at (2, 2): 9\n"
     ]
    }
   ],
   "source": [
    "matrix = [\n",
    "    [1, 2, 3],   # Row 0\n",
    "    [4, 5, 6],   # Row 1\n",
    "    [7, 8, 9]    # Row 2\n",
    "]\n",
    "\n",
    "for i in range(len(matrix)):            # Løkke gjennom rader\n",
    "    for j in range(len(matrix[i])):    # Løkke gjennom kolonnene i radene\n",
    "        print(f\"Element at ({i}, {j}): {matrix[i][j]}\")\n"
   ]
  },
  {
   "cell_type": "markdown",
   "id": "100fd07f-f23f-43ce-99b2-5c6f23f38055",
   "metadata": {},
   "source": [
    "### OBS! "
   ]
  },
  {
   "cell_type": "raw",
   "id": "262ebf12-8c0e-4fef-8c7d-fbe17fa07448",
   "metadata": {},
   "source": [
    "# IKKE FJERN ELLER LEGG TIL ELEMENTER TIL SAMME LISTE DU GÅR GJENNOM\n",
    "# MED EN FOR-LØKKE! INDEKSER KRØLLER SEG TIL!(dette er ikke et problem\n",
    "# for strenger, siden de ikke kan muteres)\n",
    "\n",
    "Denne koden prøver å fjerne alle 3-erene. \n",
    "\n",
    "a = [2, 3, 5, 3, 7]\n",
    "print(\"a =\", a)\n",
    "\n",
    "# Mislykket forsøk på å fjerne alle 3'erne\n",
    "for index in range(len(a)):\n",
    "    if (a[index] == 3):  # vi krasjer her etter en stund\n",
    "        a.pop(index)\n",
    "\n",
    "print(\"Hit kommer vi ikke\")\n",
    "\n",
    "Når du fjerner et element fra en liste, forflytter alle elementene etter den fjernede indeksen seg én plass til venstre. Dette skjer fordi Python-lister er kontinuerlige datastrukturer i minnet, og det kan ikke være \"hull\" mellom elementene.\n",
    "\n",
    "Skal ha indeksene 0-4. \n",
    "\n",
    "Index=0\n",
    "    2!=3, ingenting skjer\n",
    "Index=1\n",
    "    3=3, fjerner 3 eren og alle tallene hopper til venstre\n",
    "    [2,5,3,7]\n",
    "Index=2\n",
    "    3=3, fjerner 3 eren og alle tallene hopper til venstre\n",
    "    [2,5,7]\n",
    "index=3\n",
    "    Indexerror, finner ikke index 3."
   ]
  },
  {
   "cell_type": "code",
   "execution_count": 44,
   "id": "c74fed2c-3935-420e-aa5d-7f4f26d0645b",
   "metadata": {},
   "outputs": [
    {
     "name": "stdout",
     "output_type": "stream",
     "text": [
      "[2, 5, 7]\n"
     ]
    }
   ],
   "source": [
    "# Kan løses med å itere bakfra, har ingen forskyvning som kan påvirke. \n",
    "a = [2, 3, 5, 3, 7]\n",
    "for index in range(len(a) - 1, -1, -1):  # Fra siste til første indeks\n",
    "    if a[index] == 3:\n",
    "        a.pop(index)\n",
    "print(a)  # Output: [2, 5, 7]"
   ]
  },
  {
   "cell_type": "code",
   "execution_count": 45,
   "id": "fade495d-88aa-42cf-981e-b7a1169adb10",
   "metadata": {},
   "outputs": [
    {
     "name": "stdout",
     "output_type": "stream",
     "text": [
      "Først, a = [3, 3, 2, 3, 4]\n",
      "Etter, a = [2, 3, 4]\n"
     ]
    }
   ],
   "source": [
    "# IKKE MUTER EN LISTE INNI EN FOR-HVER -LØKKE!\n",
    "# Vil ikke krasje, men gjør heller ikke som vi forventer\n",
    "a = [3, 3, 2, 3, 4]\n",
    "print(\"Først, a =\", a)\n",
    "\n",
    "# Mislykket forsøk på å fjerne alle 3'erne\n",
    "def should_be_removed(x):\n",
    "    return x == 3\n",
    "\n",
    "for item in a:\n",
    "    if should_be_removed(item):\n",
    "        a.remove(item)\n",
    "\n",
    "print(\"Etter, a =\", a) # [2, 3, 4]\n",
    "\n",
    "#Iterer over elementene, når en verdi fjernes 'fortsetter den i rekkefølge' ikke basert på indeksen. Som vil si vi ser på det\n",
    "#første elementet siden det er det som fjernes. \n",
    "\n",
    "#Når jeg har to like tall i listen, så vil kun det første tallet fjernes. Altså finner det første 3-er tallet. "
   ]
  },
  {
   "cell_type": "code",
   "execution_count": 46,
   "id": "50f9a6c2-174c-49c3-b23c-9f1b9e9ddec5",
   "metadata": {},
   "outputs": [
    {
     "name": "stdout",
     "output_type": "stream",
     "text": [
      "Først, a = [3, 3, 2, 3, 4]\n",
      "Itererer over item: 3\n",
      "  3 skal fjernes (a før fjerning: [3, 3, 2, 3, 4])\n",
      "  a etter fjerning: [3, 2, 3, 4]\n",
      "Itererer over item: 2\n",
      "  2 beholdes (a: [3, 2, 3, 4])\n",
      "Itererer over item: 3\n",
      "  3 skal fjernes (a før fjerning: [3, 2, 3, 4])\n",
      "  a etter fjerning: [2, 3, 4]\n",
      "Etter, a = [2, 3, 4]\n"
     ]
    }
   ],
   "source": [
    "a = [3, 3, 2, 3, 4]\n",
    "print(\"Først, a =\", a)  # Før listen endres\n",
    "\n",
    "# Mislykket forsøk på å fjerne alle 3'erne\n",
    "def should_be_removed(x):\n",
    "    return x == 3\n",
    "\n",
    "for item in a:\n",
    "    print(f\"Itererer over item: {item}\")  # Viser hvilket element vi ser på\n",
    "    if should_be_removed(item):\n",
    "        print(f\"  {item} skal fjernes (a før fjerning: {a})\")\n",
    "        a.remove(item)\n",
    "        print(f\"  a etter fjerning: {a}\")  # Listen etter fjerning\n",
    "    else:\n",
    "        print(f\"  {item} beholdes (a: {a})\")  # Listen forblir uendret\n",
    "\n",
    "print(\"Etter, a =\", a)  # Etter alle iterasjone"
   ]
  },
  {
   "cell_type": "markdown",
   "id": "3ad7f16e-4704-4dc6-951d-c6f797a69c83",
   "metadata": {},
   "source": [
    "##### Kan fikse"
   ]
  },
  {
   "cell_type": "code",
   "execution_count": 47,
   "id": "4980a0a2-4655-4712-8cb3-58fec9ac258d",
   "metadata": {},
   "outputs": [
    {
     "name": "stdout",
     "output_type": "stream",
     "text": [
      "[2, 5, 7]\n"
     ]
    }
   ],
   "source": [
    "a = [2, 3, 5, 3, 7]\n",
    "\n",
    "while 3 in a:  # Fortsetter så lenge det er 3 i listen\n",
    "    a.remove(3)  # Fjerner første tilfelle av 3\n",
    "\n",
    "print(a)"
   ]
  },
  {
   "cell_type": "code",
   "execution_count": 48,
   "id": "4ea37295-8d3c-4a48-b2c3-ffe5fbd1c931",
   "metadata": {},
   "outputs": [
    {
     "name": "stdout",
     "output_type": "stream",
     "text": [
      "Først, a = [3, 3, 2, 3, 4]\n",
      "Huzza! a = [2, 4]\n"
     ]
    }
   ],
   "source": [
    "# Bedre: mutering i en while-løkke.\n",
    "# Her har vi full kontroll på hvordan indeks endrer seg.\n",
    "a = [3, 3, 2, 3, 4]\n",
    "print(\"Først, a =\", a)\n",
    "\n",
    "# Vellykket forsøk på å fjerne alle 3'erne\n",
    "def should_be_removed(x):\n",
    "    return x == 3\n",
    "\n",
    "index = 0\n",
    "while (index < len(a)): #kjører helt til indeksen ikke er mindre enn lengden til listen.\n",
    "    value = a[index]\n",
    "    if (should_be_removed(value)):\n",
    "        a.pop(index)\n",
    "    else:\n",
    "        index += 1 #øker kun indexen når vi ikke fjerner et element, slik at alle tallene blir evaluert. \n",
    "        #bruker en manuell kontroll av indeksen. \n",
    "\n",
    "print(\"Huzza! a =\", a) # [2, 4]"
   ]
  },
  {
   "cell_type": "markdown",
   "id": "d231258f-bae6-476e-8c08-6e964e125ca7",
   "metadata": {},
   "source": [
    "### Input fra terminal\n",
    "Kan klare å lese input fra terminalen, og gi denne videre. Input er alltid en streng, hvis vi skal ha en float, eller int, må vi konvertere stringen. \n"
   ]
  },
  {
   "cell_type": "code",
   "execution_count": 49,
   "id": "d6e0f8cf-5a4c-4c36-912a-f5575dd613d9",
   "metadata": {},
   "outputs": [],
   "source": [
    "# Les input og skriv ut en hilsen\n",
    "# print('Skriv ditt navn')\n",
    "# name = input()\n",
    "# print(f'Hei, {name}!')\n"
   ]
  },
  {
   "cell_type": "code",
   "execution_count": 50,
   "id": "b9466d16-2872-4cc7-87fe-251e53477e2b",
   "metadata": {},
   "outputs": [],
   "source": [
    "# Når input er et tall\n",
    "# print('Skriv et tall') \n",
    "# a = input() # f. eks. 4\n",
    "\n",
    "# print('Skriv et tall til')\n",
    "# b = input() # f. eks. 2\n",
    "\n",
    "# print('Før konvertering er a og b strenger. a + b =', a + b) # 42\n",
    "\n",
    "# Konverterer til tall\n",
    "# a = int(a)\n",
    "# b = int(b)\n",
    "\n",
    "# print('Etter konvertering er a og b heltall. a + b =', a + b) # 6\n"
   ]
  },
  {
   "cell_type": "markdown",
   "id": "e834375c-e6ef-4e32-98a3-0bda42f8d5a8",
   "metadata": {},
   "source": [
    "### Typer"
   ]
  },
  {
   "cell_type": "markdown",
   "id": "c283995d-ec6b-4241-aaf9-978e099bcbac",
   "metadata": {},
   "source": [
    "Enhver verdi har en type, også kalt klasse. Det er en mal for å lage objekter og definerer deres egenskaper og funksjoner. F.eks int, str, list.\n",
    "Kan bruke type til å se hvilken type en verdi har. "
   ]
  },
  {
   "cell_type": "code",
   "execution_count": 51,
   "id": "996f57f2-6531-4b49-91bd-2e1b509c9250",
   "metadata": {},
   "outputs": [
    {
     "name": "stdout",
     "output_type": "stream",
     "text": [
      "Noen elementære typer i Python:\n",
      "<class 'str'>\n",
      "<class 'int'>\n",
      "<class 'float'>\n",
      "<class 'bool'>\n",
      "<class 'NoneType'>\n",
      "<class 'list'>\n",
      "\n",
      "<class 'tuple'>\n",
      "<class 'set'>\n",
      "<class 'dict'>\n"
     ]
    }
   ],
   "source": [
    "print('Noen elementære typer i Python:')\n",
    "print(type('foo'))        # str       (streng/tekst)\n",
    "print(type(2))            # int       (heltall)\n",
    "print(type(2.2))          # float     (flyttall/desimaltall)\n",
    "print(type(True))         # bool      (boolsk verdi; True eller False)\n",
    "print(type(None))         # NoneType  («ingenting» -verdien har egen type)\n",
    "print(type([1, 2, 3, 4])) # list      (en liste av andre verdier)\n",
    "print()\n",
    "print(type((1, 2, 3, 4))) # tuple\n",
    "print(type({1, 2, 3, 4})) # set\n",
    "print(type({1: 2, 3: 4})) # dict\n"
   ]
  },
  {
   "cell_type": "markdown",
   "id": "776d9c87-4107-46a4-99bb-ad73d2eec1c3",
   "metadata": {},
   "source": [
    "#### Eksempel på opprettelse av dict\n",
    "nøkkelen er bokstav, og verdien er liste over ordene på den bokstaven"
   ]
  },
  {
   "cell_type": "code",
   "execution_count": 52,
   "id": "e9bf62f3-cfe1-4f20-9c93-d86276d188fe",
   "metadata": {},
   "outputs": [
    {
     "name": "stdout",
     "output_type": "stream",
     "text": [
      "{'a': ['apple', 'apricot', 'avocado'], 'b': ['banana', 'blueberry'], 'c': ['cherry', 'carrot']}\n"
     ]
    }
   ],
   "source": [
    "word_list=[\"apple\", \"banana\", \"apricot\", \"blueberry\", \"cherry\", \"avocado\", \"carrot\"]\n",
    "\n",
    "#Oppretter en dict\n",
    "letter_dict={}\n",
    "\n",
    "# Iterere gjennom ord og sortere etter startbokstav\n",
    "for word in word_list:\n",
    "    first_letter=word[0] #Finner første bokstav\n",
    "    if first_letter not in letter_dict:\n",
    "        letter_dict[first_letter]=[] # Oppretter ny nøkkel med tom liste\n",
    "    letter_dict[first_letter].append(word) # Legger til ordet i riktig liste\n",
    "\n",
    "print(letter_dict)\n"
   ]
  },
  {
   "cell_type": "markdown",
   "id": "9960d29d-ddf7-4000-a97d-0e1ced5f2c6a",
   "metadata": {},
   "source": [
    "#### Set\n",
    "Når man må jobbe med unike elementer, og/eller ikke kan ha like elementer i en liste, kan bruke til å finne det første like elementet i to lister"
   ]
  },
  {
   "cell_type": "code",
   "execution_count": 53,
   "id": "7afda8b2-2f80-4928-87ef-4e0d9278db51",
   "metadata": {},
   "outputs": [
    {
     "name": "stdout",
     "output_type": "stream",
     "text": [
      "5\n"
     ]
    }
   ],
   "source": [
    "def find_equal_element(list1, list2):\n",
    "    # Konverterer en av listene til et set\n",
    "    set1= set(list1)\n",
    "\n",
    "    # Sjekker elementer i den andre listen mot set.\n",
    "    for num in list2:\n",
    "        if num in set1:\n",
    "            return num # Returnerer det første felles elementet.\n",
    "\n",
    "    # Ingen felles tall \n",
    "    return None \n",
    "\n",
    "liste1 = [1, 2, 3, 4, 5]\n",
    "liste2 = [5, 6, 7, 8]\n",
    "\n",
    "resultat = find_equal_element(liste1, liste2)\n",
    "print(resultat)"
   ]
  },
  {
   "cell_type": "markdown",
   "id": "dd42c8f2-0805-485e-aebe-83336e2617f1",
   "metadata": {},
   "source": [
    "### Operator\n",
    "For å utføre operasjon.\n",
    "Når man sjekker om to heltall er like bruker man ==, dette bør man ikke bruke for float. Siden har desimaltall, som kan føre til små avrundingsfeil. Får to tall som ser like ut, ikke nødvendigvis er like i bineær form.  \n",
    "Bør bruke en epsilon, hvor nærme to tall må være for å være like. Deretter ser vi på absoluttverdien av aviket, hvis forskjellen er mindre enn epsilon, regnes de som like. \n",
    "\n",
    "Bør gjøre slik som dette:"
   ]
  },
  {
   "cell_type": "code",
   "execution_count": 54,
   "id": "8c972ef2-ee6c-4961-8a87-3b7cb6270571",
   "metadata": {},
   "outputs": [
    {
     "name": "stdout",
     "output_type": "stream",
     "text": [
      "False\n"
     ]
    }
   ],
   "source": [
    "print(0.1 + 0.2 == 0.3)  # Output: False\n",
    "# Grunnen er at 0.1 + 0.2 evalueres til 0.30000000000000004"
   ]
  },
  {
   "cell_type": "code",
   "execution_count": 55,
   "id": "88da1004-0434-43fe-9391-524dbb99f12b",
   "metadata": {},
   "outputs": [
    {
     "name": "stdout",
     "output_type": "stream",
     "text": [
      "False\n",
      "True\n"
     ]
    }
   ],
   "source": [
    "def almost_equals(a, b):\n",
    "    epsilon = 0.0000000001\n",
    "    return abs(a - b) < epsilon # abs()-funksjonen gir absolutt-verdien\n",
    "\n",
    "print(0.1 + 0.1 + 0.1 == 0.3)  # False\n",
    "print(almost_equals(0.1 + 0.1 + 0.1, 0.3))  # True\n"
   ]
  },
  {
   "cell_type": "markdown",
   "id": "2ed456a1-7f3c-46ce-8cbc-3334a63acca8",
   "metadata": {},
   "source": [
    "### Sjekke om partall\n",
    "Partall er delelig med 0"
   ]
  },
  {
   "cell_type": "code",
   "execution_count": 56,
   "id": "e0360b3a-4480-4851-8bd3-5def928e01ca",
   "metadata": {},
   "outputs": [
    {
     "name": "stdout",
     "output_type": "stream",
     "text": [
      "42 er et partall: True\n"
     ]
    }
   ],
   "source": [
    "num = 42\n",
    "is_num_even = (num % 2) == 0\n",
    "print(f'{num} er et partall: {is_num_even}')\n"
   ]
  },
  {
   "cell_type": "markdown",
   "id": "1c588a6e-50dc-40d9-8177-ed2f801919ed",
   "metadata": {},
   "source": [
    "### Presedens og assosiativitet\n",
    "Vi leser venstre til høyre hvis vi har like i en kode.\n",
    "Untk er **, den er fra høyre til venstre. \n",
    "\n",
    "Relasjonene (altså ==, !=,  <,  <=,  >,  >=, in not, in, is, is not) assosierer hverken til høyre eller til venstre; dersom man har flere slike i et uttrykk vil de komponeres som en konjunksjon i stedet. For eksempel, -1 < 0 == False vil tolkes som (-1 < 0) and (0 == False), og altså ikke som (-1 < 0) == False. Dette ser vi på som lenkede sammenligninger for korte kompakte uttrykk.\n",
    "\n",
    "Konjuksjon brukes til å kombinere to eller flere uttrykk. \n",
    "\n",
    "<img src=\"image.png\" alt=\"Operatortabell\" width=\"600\">\n",
    "\n"
   ]
  },
  {
   "cell_type": "code",
   "execution_count": 57,
   "id": "c02ee6f2-e80c-4937-b072-b4defac81112",
   "metadata": {},
   "outputs": [
    {
     "name": "stdout",
     "output_type": "stream",
     "text": [
      "True\n",
      "True\n",
      "False\n",
      "\n",
      "True\n",
      "True\n",
      "False\n",
      "\n",
      "True\n",
      "False\n",
      "\n",
      "True\n",
      "a\n"
     ]
    }
   ],
   "source": [
    "# Fort gjort å gjøre feil\n",
    "print(True or True and False) # and høyere prioritet enn False, altså T or F er T.\n",
    "print(not False or True)\n",
    "print(not (False or True))\n",
    "print()\n",
    "print(2 < 3 < 4)\n",
    "print(not 3 < 2 < 1) # Ser på 3 < 2 < 1 før not, dermed blir det T\n",
    "print(not 3 < 2 and 2 < 1) # not 3 < 2 er T, 2<1 er F, T and F er F.\n",
    "print()\n",
    "print('b' in 'box')\n",
    "print('b' in 'box' == True) # (krasjer),dette skjer siden det er en lenket sammenligning \n",
    "('b' in 'box') and ('box' == True) # 'box' == True, dette gir ikke mening. \n",
    "print()\n",
    "print('a' and 'b' in 'box')\n",
    "print('a' or 'z' in 'box') # 'a' returneres siden det er en sann verdi, den er ikke tom. Derfor returneres a."
   ]
  },
  {
   "cell_type": "code",
   "execution_count": 58,
   "id": "703a182d-28d1-4ce8-a938-6c060b176e94",
   "metadata": {},
   "outputs": [
    {
     "name": "stdout",
     "output_type": "stream",
     "text": [
      "x\n",
      "True\n"
     ]
    }
   ],
   "source": [
    "print('x' or 'y' in 'yes')  # Output: 'x', or returnerer den første sannhetsverdien i utrykket.\n",
    "print('' or 'y' in 'yes')   # Output: True"
   ]
  },
  {
   "cell_type": "code",
   "execution_count": 59,
   "id": "775d37f7-64ca-4b5a-ac71-d7dea5fac888",
   "metadata": {},
   "outputs": [
    {
     "name": "stdout",
     "output_type": "stream",
     "text": [
      "True\n",
      "True\n"
     ]
    }
   ],
   "source": [
    "# Lenkede sammenligninger\n",
    "x = 5\n",
    "print(0 < x < 10)\n",
    "print(x > 0 and x < 10)  # Output: True"
   ]
  },
  {
   "cell_type": "code",
   "execution_count": 60,
   "id": "9d672f6e-8859-4dc6-8093-cb0071831f83",
   "metadata": {},
   "outputs": [
    {
     "data": {
      "text/plain": [
       "True"
      ]
     },
     "execution_count": 60,
     "metadata": {},
     "output_type": "execute_result"
    }
   ],
   "source": [
    "-1 < 0 == False\n",
    "(-1 < 0) and (0 == False) # 0 regnes som false i boolske sammenhenger\n"
   ]
  },
  {
   "cell_type": "markdown",
   "id": "2e2aa7c9-a1ac-49ae-865b-49c3381fcd59",
   "metadata": {},
   "source": [
    "#### If/else"
   ]
  },
  {
   "cell_type": "code",
   "execution_count": 61,
   "id": "808d5415-46a8-4071-8398-9b2f87f4ba0e",
   "metadata": {},
   "outputs": [
    {
     "name": "stdout",
     "output_type": "stream",
     "text": [
      "Alder: 20. Dette er en voksen.\n",
      "a\n"
     ]
    }
   ],
   "source": [
    "# Eksempel på uttrykk med betingelse\n",
    "age = 20\n",
    "status = 'et barn' if age < 18 else 'en voksen'\n",
    "print(f'Alder: {age}. Dette er {status}.')  # Alder: 20. Dette er en voksen.\n",
    "\n",
    "# Generelt\n",
    "condition = True  # or False\n",
    "value_if_true = 'a'\n",
    "value_if_false = 'b'\n",
    "result = value_if_true if condition else value_if_false # a if true else false, hvis condition er false, ville b blitt printet.\n",
    "print(result)  # a"
   ]
  },
  {
   "cell_type": "markdown",
   "id": "75fd6363-4f88-4d4d-a113-45968de6ce7d",
   "metadata": {},
   "source": [
    "### Betingelser\n",
    "### If-setninger\n",
    "Når vi lager en kode som kjører når en betingelse er oppfylt (True). For å ta beslutninger eller håndtere forskjellige scenarioer. \n",
    "\n",
    "Når vi kun har if-setninger etter hverandre så blir alle vurdert. Elif brukes når det kun er en av betingelsene som kan være sann. "
   ]
  },
  {
   "cell_type": "code",
   "execution_count": 62,
   "id": "4a73ffcd-c46e-46b0-aede-f51e82aefc05",
   "metadata": {},
   "outputs": [
    {
     "name": "stdout",
     "output_type": "stream",
     "text": [
      "x er større enn 5\n"
     ]
    }
   ],
   "source": [
    "x = 10\n",
    "if x > 5:  # Sjekker om x er større enn 5\n",
    "    print(\"x er større enn 5\")"
   ]
  },
  {
   "cell_type": "markdown",
   "id": "f8ab291c-7f0e-4d76-9023-4bb58cd87089",
   "metadata": {},
   "source": [
    "### If-else\n",
    "Kjører ulik kode avhengig av resultatet av betingelsene. If kjører bare kode hvis betingelsen er sann, mens if-else lar deg spesifisere hva som skal skje når en betingelse er false. "
   ]
  },
  {
   "cell_type": "code",
   "execution_count": 63,
   "id": "0cdd7521-83ba-49ae-99aa-d8c4da2038b1",
   "metadata": {},
   "outputs": [
    {
     "name": "stdout",
     "output_type": "stream",
     "text": [
      "x er større enn 5\n"
     ]
    }
   ],
   "source": [
    "x = 10\n",
    "\n",
    "if x > 5:\n",
    "    print(\"x er større enn 5\")\n",
    "else:\n",
    "    print(\"x er mindre enn eller lik 5\")"
   ]
  },
  {
   "cell_type": "markdown",
   "id": "bfd87792-17b8-4100-b76e-752f434d726c",
   "metadata": {},
   "source": [
    "### If-elif-else\n",
    "Sjekker flere betingelser etter hverandre, lar deg håndtere flere mulige scenarioer. Kun en av blokkene kjøres når den er True. Sjekker den første blokken først, deretter de resterende.\n",
    "\n",
    "Den siste må være else, og da hvis vi skal legge med en betingelse 'tallet er ikke gyldig', legg den med i else."
   ]
  },
  {
   "cell_type": "code",
   "execution_count": 64,
   "id": "e4f2a6d1-3138-4bf7-b4ed-aaef6f51f6c7",
   "metadata": {},
   "outputs": [
    {
     "name": "stdout",
     "output_type": "stream",
     "text": [
      "Du kan jobbe.\n"
     ]
    }
   ],
   "source": [
    "age = 20\n",
    "#age=int(input())\n",
    "\n",
    "\n",
    "if age < 18:\n",
    "    print(\"Du er for ung.\")\n",
    "elif age < 65:\n",
    "    print(\"Du kan jobbe.\")\n",
    "else:\n",
    "    print(\"Du er pensjonist.\")"
   ]
  },
  {
   "cell_type": "markdown",
   "id": "049ac44a-1a16-4849-97b7-a234f21e09c2",
   "metadata": {},
   "source": [
    "Når en bruker skriver input kan man bruke en try-except"
   ]
  },
  {
   "cell_type": "code",
   "execution_count": 65,
   "id": "66dacc5a-f38e-457c-8286-176738864f68",
   "metadata": {},
   "outputs": [
    {
     "name": "stdout",
     "output_type": "stream",
     "text": [
      "Din alder er 20.\n",
      "Du kan jobbe.\n"
     ]
    }
   ],
   "source": [
    "try:\n",
    "    #age = int(input(\"Skriv inn alderen din: \"))\n",
    "    print(f\"Din alder er {age}.\")\n",
    "\n",
    "    if age < 18:\n",
    "        print(\"Du er for ung.\")\n",
    "    elif age < 65:\n",
    "        print(\"Du kan jobbe.\")\n",
    "    else:\n",
    "        print(\"Du er pensjonist.\")\n",
    "except ValueError:\n",
    "    print(\"Vennligst skriv inn et gyldig tall!\")\n"
   ]
  },
  {
   "cell_type": "markdown",
   "id": "57469e8e-5d72-41d0-ae47-483080125246",
   "metadata": {},
   "source": [
    "### Logiske operasjoner\n",
    "- and returns True if both conditions are True, and returns False otherwise.\n",
    "- or returns True if at least one of the conditions is True, and False otherwise.\n",
    "- not returns True if the condition is False, and vice versa.\n",
    "\n",
    "not kan brukes til å bytte en boolsk variabel mellom True og False. \n",
    "F.eks: Hvis app.debug_mode er True, vil not app.debug_mode gjøre den til False."
   ]
  },
  {
   "cell_type": "markdown",
   "id": "9c9a1456-58e3-447b-a2d5-6d512f034783",
   "metadata": {},
   "source": [
    "#### Truthy og Falsy verdier\n",
    "Jver verdi kan evalueres som Truthy eller Falsy verdier, når den brukes i if-betingelser.\n",
    "Falsy verdier: False, None, 0, 0.0, \"\", [], (), {}.\n",
    "De fleste andre verdier blir sett på som Truthy verdier,"
   ]
  },
  {
   "cell_type": "code",
   "execution_count": 66,
   "id": "49058f1e-ebeb-4582-83b8-af8637392a5b",
   "metadata": {},
   "outputs": [
    {
     "name": "stdout",
     "output_type": "stream",
     "text": [
      "Alle tall bortsett fra 0 er truthy\n",
      "bool( 2) = True\n",
      "bool( 1) = True\n",
      "bool(-1) = True\n",
      "bool( 0) = False\n",
      "\n",
      "bool( 1.0) = True\n",
      "bool(0.01) = True\n",
      "bool(-0.1) = True\n",
      "bool( 0.0) = False\n",
      "bool(-0.0) = False\n",
      "\n",
      "Alle strenger bortsett fra den tomme strengen er truthy\n",
      "bool( \"True\") = True\n",
      "bool(\"False\") = True\n",
      "bool(    \" \") = True\n",
      "bool(     \"\") = False\n",
      "\n",
      "Alle lister bortsett fra den tomme listen er truthy\n",
      "bool([1, 2, 3]) = True\n",
      "bool([0, 0, 0]) = True\n",
      "bool(  [False]) = True\n",
      "bool(       []) = False\n",
      "\n",
      "Den spesielle verdien None er falsy\n",
      "bool(None) = False\n"
     ]
    }
   ],
   "source": [
    "print('Alle tall bortsett fra 0 er truthy')\n",
    "print(f'{bool( 2) = }') # True\n",
    "print(f'{bool( 1) = }') # True\n",
    "print(f'{bool(-1) = }') # True\n",
    "print(f'{bool( 0) = }') # False\n",
    "print()\n",
    "print(f'{bool( 1.0) = }') # True\n",
    "print(f'{bool(0.01) = }') # True\n",
    "print(f'{bool(-0.1) = }') # True\n",
    "print(f'{bool( 0.0) = }') # False\n",
    "print(f'{bool(-0.0) = }') # False\n",
    "print()\n",
    "print('Alle strenger bortsett fra den tomme strengen er truthy')\n",
    "print(f'{bool( \"True\") = }') # True\n",
    "print(f'{bool(\"False\") = }') # True\n",
    "print(f'{bool(    \" \") = }') # True\n",
    "print(f'{bool(     \"\") = }') # False\n",
    "print()\n",
    "print('Alle lister bortsett fra den tomme listen er truthy')\n",
    "print(f'{bool([1, 2, 3]) = }') # True\n",
    "print(f'{bool([0, 0, 0]) = }') # True\n",
    "print(f'{bool(  [False]) = }') # True\n",
    "print(f'{bool(       []) = }') # False\n",
    "print()\n",
    "print('Den spesielle verdien None er falsy')\n",
    "print(f'{bool(None) = }') # False\n"
   ]
  },
  {
   "cell_type": "markdown",
   "id": "d41659de-953f-4e46-a46d-ebde6a47551c",
   "metadata": {},
   "source": [
    "### Lokker"
   ]
  },
  {
   "cell_type": "markdown",
   "id": "551327eb-3110-4355-8c26-8ddcc04e2ae6",
   "metadata": {},
   "source": [
    "### While-loop\n",
    "En while-loop fortsetter å kjøre en kodeblokk så lenge en gitt betingelse er True. Når betingelsen ikke lenger er oppfylt (blir False), stopper løkken. Altså veldig lik en if-statement. Stopper basert på en betingelse. \n",
    "\n",
    "Brukes når man ikke vet på forhånd hvor mange iterasjoner vi har.\n",
    "Viktig at betingelsene endres i løpet av løkken for å unngå evige løkker. "
   ]
  },
  {
   "cell_type": "code",
   "execution_count": 67,
   "id": "f41965a5-60fd-493f-b47d-ea9382a83b42",
   "metadata": {},
   "outputs": [
    {
     "name": "stdout",
     "output_type": "stream",
     "text": [
      "1\n",
      "2\n",
      "3\n",
      "4\n",
      "5\n"
     ]
    }
   ],
   "source": [
    "i = 1\n",
    "while i <= 5:\n",
    "    print(i)\n",
    "    i += 1  # Øker `i` for å unngå en evig loop, hvis vi ikke har denne vil vi få en uendelig loop.\n"
   ]
  },
  {
   "cell_type": "code",
   "execution_count": 68,
   "id": "6662c1f5-8545-4a18-ade8-3b60a2cb2a19",
   "metadata": {},
   "outputs": [
    {
     "name": "stdout",
     "output_type": "stream",
     "text": [
      "BANK\n",
      "PIN accepted!\n"
     ]
    }
   ],
   "source": [
    "#Bruker while løkke for å gi brukeren flere sjangser til å skrive inn pin, hvis ikke hadde brukeren\n",
    "#kun fått en sjangse. \n",
    "print('BANK')\n",
    "\n",
    "#pin = int(input('Enter your PIN: ')) #Kjør denne\n",
    "pin=1234\n",
    "while pin != 1234:\n",
    "  pin = int(input('Incorrect PIN. Enter your PIN again: '))\n",
    "if pin == 1234:\n",
    "  print('PIN accepted!')"
   ]
  },
  {
   "cell_type": "markdown",
   "id": "5760982a-cf07-496d-812a-d6e961331d66",
   "metadata": {},
   "source": [
    "#### Break \n",
    "kan benyttes når vi skal bryte ut av en while løkke."
   ]
  },
  {
   "cell_type": "code",
   "execution_count": 69,
   "id": "ca269dcd-a4fc-4714-b37e-6ee4ca18ec88",
   "metadata": {},
   "outputs": [
    {
     "name": "stdout",
     "output_type": "stream",
     "text": [
      "Jeg snill 0\n",
      "...\n",
      "Jeg snill 1\n",
      "...\n",
      "Jeg snill 2\n",
      "...\n",
      "Jeg snill 3\n",
      "...\n",
      "Jeg snill 4\n",
      "Ferdig!\n"
     ]
    }
   ],
   "source": [
    "x = 0\n",
    "while True:\n",
    "    print('Jeg snill', x)\n",
    "    x += 1\n",
    "    if x >= 5:\n",
    "        break #Bryter direkte ut av while-løkken\n",
    "    print('...') # kjøres ikke siste iterasjon, siden bryter ut med en gang. \n",
    "print('Ferdig!')"
   ]
  },
  {
   "cell_type": "markdown",
   "id": "fee34208-f0ee-4286-a2aa-1dddef34b039",
   "metadata": {},
   "source": [
    "#### Continue\n",
    "Brukes for å hoppe over resten av koden i kodeblokken i løkken og gå direkte tilbake til begynnelsen"
   ]
  },
  {
   "cell_type": "code",
   "execution_count": 70,
   "id": "e4a85678-f3be-4d34-a67b-b8f0b3b1e606",
   "metadata": {},
   "outputs": [
    {
     "name": "stdout",
     "output_type": "stream",
     "text": [
      "Jeg snill 0\n",
      "Jeg snill 1\n",
      "Jeg snill 2\n",
      "...\n",
      "Jeg snill 3\n",
      "...\n",
      "Jeg snill 4\n",
      "...\n",
      "Ferdig!\n"
     ]
    }
   ],
   "source": [
    "x = 0\n",
    "while x < 5:\n",
    "    print('Jeg snill', x)\n",
    "    x += 1 #Denne øker x med 1 noe som gjør at '...' printes ut rett etter 2.\n",
    "    if x <= 2:\n",
    "        continue #kaller på continue altså hopper over resterende av koden. \n",
    "    print('...') # hoppes over når x <= 2\n",
    "print('Ferdig!')"
   ]
  },
  {
   "cell_type": "raw",
   "id": "b94e8a7f-6191-4918-a6a7-74c3c39cfea9",
   "metadata": {},
   "source": [
    "# Eksempel på begge \n",
    "while True:\n",
    "    print(\"Brukernavn: \", end=\"\")\n",
    "    username=admin\n",
    "    username = input()\n",
    "\n",
    "    if username == \"\":\n",
    "        break # Avbryter løkken hvis username er tomt\n",
    "\n",
    "    if username != \"admin\":\n",
    "        print(f\"Fant ikke bruker {username}\")\n",
    "        continue # Avbryter resten av iterasjonen, må skrive inn riktig brukernavn, starter på ny, hopper til start. \n",
    "\n",
    "    print(f\"Passord for {username}: \", end=\"\")\n",
    "    password = input()\n",
    "    if password == \"42\":\n",
    "        print(\"Du er nå logget inn\")\n",
    "        print(\"Bla bla bla\")\n",
    "        print(\"Du er nå logget ut igjen\")\n",
    "\n",
    "print(\"Slår av maskinen nå.\")"
   ]
  },
  {
   "cell_type": "markdown",
   "id": "0480efe9-8d68-4c04-bc67-3670b3776d44",
   "metadata": {},
   "source": [
    "### For-løkker\n",
    "Brukes når vi vet på forhånd hvor mange ganger vi vil kjøre koden. \n",
    "\n",
    "Kan spesifisere startverdi, sluttverdi og eventuell steglengde. \n",
    "for i in range(0, 10, 2):  # Starter på 0, slutter før 10, hopper over 2 hver gang\n"
   ]
  },
  {
   "cell_type": "code",
   "execution_count": 71,
   "id": "9c18f165-8ea9-44de-a328-6b2c741b3f19",
   "metadata": {},
   "outputs": [
    {
     "name": "stdout",
     "output_type": "stream",
     "text": [
      "3\n",
      "4\n",
      "5\n",
      "6\n",
      "7\n",
      "8\n",
      "9\n",
      "10\n",
      "3\n",
      "4\n",
      "5\n",
      "6\n",
      "7\n",
      "8\n",
      "9\n",
      "10\n"
     ]
    }
   ],
   "source": [
    "#Skrive ut alle tallene mellom a og b\n",
    "\n",
    "#For-løkke\n",
    "a = 3\n",
    "b = 10\n",
    "\n",
    "for i in range(a, b + 1): #Starter på a, og avslutter på b+1, hopper opp med standardverdien 1. \n",
    "    print(i)\n",
    "\n",
    "#While-løkke\n",
    "a = 3\n",
    "b = 10\n",
    "\n",
    "i = a\n",
    "while i <= b: #Iterer så lenge i er mindre eller lik b, altså avslutter når vi når b\n",
    "    print(i)\n",
    "    i += 1 #Viktig å øke iterasjon for å ikke få en uendelig iterasjon"
   ]
  },
  {
   "cell_type": "markdown",
   "id": "94c4ab17-8a04-431a-953a-83abfff4f085",
   "metadata": {},
   "source": [
    "### Nøstede løkker\n",
    "En løkke med en annen løkke inni.\n",
    "Den ytre løkken itererer over én verdi om gangen, og for hver iterasjon av den ytre løkken vil den indre løkken fullføre alle sine iterasjoner før den ytre løkken går videre til neste verdi. \n",
    "Fortsetter til i er fullført iterert over."
   ]
  },
  {
   "cell_type": "code",
   "execution_count": 72,
   "id": "3dd6af6a-3353-42d6-a96e-b30eb1bc25ae",
   "metadata": {},
   "outputs": [
    {
     "name": "stdout",
     "output_type": "stream",
     "text": [
      "1\n",
      "2\n",
      "3\n",
      "2\n",
      "4\n",
      "6\n",
      "3\n",
      "6\n",
      "9\n"
     ]
    }
   ],
   "source": [
    "for i in range(1, 4): #avsluttes når i=5.\n",
    "  for j in range(1, 4):\n",
    "    print(i * j)\n",
    "#Ytre løkken kjører i=1\n",
    "# j=1, 1*1=1\n",
    "# j=2, 1*2=2\n",
    "\n",
    "#Ytre løkken kjører i=2\n",
    "# j=1, 2*1=2\n",
    "# j=2, 2*2=4"
   ]
  },
  {
   "cell_type": "markdown",
   "id": "76b3c85e-a0e3-4054-a0f5-df659e554b4a",
   "metadata": {},
   "source": [
    "### Funksjon\n",
    "Funksjoner som er definert inni en klasse, kalles metoder. Metoder er spesifikke for objektene som opprettes fra klassen, og de kan brukes til å manipulere eller hente informasjon fra disse objektene. Noen innebygde metoder er insert, remove, append.\n",
    "\n",
    "__Attributter__ er data eller egenskaper som er knyttet til et objekt. (Instansene vi lager for et objekt).\n",
    "\n",
    "Hvis vi har to funksjoner kan vi bruke samme variabelnavn så lenge det er lokalt. \n",
    "\n",
    "Bruk av funksjoner: \n",
    "1. Gjenbruk av kode: Reduserer behovet for å skrive samme kode flere ganger.\n",
    "2. Modularitet: Gjør koden mer organisert og lett å lese.\n",
    "3. Vedlikehold: Endringer kan gjøres på ett sted og reflekteres der funksjonen brukes."
   ]
  },
  {
   "cell_type": "code",
   "execution_count": 73,
   "id": "0a4a6607-0836-4515-bc28-f2228743e539",
   "metadata": {},
   "outputs": [
    {
     "name": "stdout",
     "output_type": "stream",
     "text": [
      "10\n",
      "5\n"
     ]
    }
   ],
   "source": [
    "def test():\n",
    "    lokal = 10  # Lokal variabel\n",
    "    print(lokal)\n",
    "\n",
    "global_var = 5  # Global variabel\n",
    "\n",
    "test()  # Output: 10\n",
    "print(global_var)  # Output: 5\n"
   ]
  },
  {
   "cell_type": "code",
   "execution_count": 74,
   "id": "4f296b6b-e0b0-4a26-a3a8-54ece0aa4f17",
   "metadata": {},
   "outputs": [
    {
     "name": "stdout",
     "output_type": "stream",
     "text": [
      "Stavanger ligger i Norge.\n"
     ]
    }
   ],
   "source": [
    "#oppretter en klasse\n",
    "class City:\n",
    "    #lager on initialisere attributer for et objekt når det blir opprettet\n",
    "    def __init__(self, name, country):\n",
    "        self.name = name  #attribute for byens navn\n",
    "        self.country = country #attribut for landets navn\n",
    "\n",
    "    def describe(self):\n",
    "        return f\"{self.name} ligger i {self.country}.\"\n",
    "\n",
    "# Opprette objekt\n",
    "stavanger = City(\"Stavanger\", \"Norge\")\n",
    "\n",
    "# Kaller metoden\n",
    "print(stavanger.describe())  # Output: Stavanger ligger i Norge."
   ]
  },
  {
   "cell_type": "code",
   "execution_count": 75,
   "id": "c8ab73c3-2860-49c8-843c-fc8db279a3b5",
   "metadata": {},
   "outputs": [
    {
     "name": "stdout",
     "output_type": "stream",
     "text": [
      "The student Per's GPA is 3.0!\n",
      "Per will be able to graduate this year!\n"
     ]
    }
   ],
   "source": [
    "class Student:\n",
    "    def __init__(self, name, year, enrolled, gpa):\n",
    "        # Verdier settes til instansvariabelen\n",
    "        self.name = name\n",
    "        self.year = year\n",
    "        self.enrolled = enrolled\n",
    "        self.gpa = gpa\n",
    "\n",
    "    def display_info(self):\n",
    "        # Bruker f-strenger for enklere lesbarhet\n",
    "        print(f\"The student {self.name}'s GPA is {self.gpa}!\")\n",
    "\n",
    "    def graduation(self):\n",
    "        if self.enrolled and self.gpa > 2.5 and self.year == 12:\n",
    "            print(f\"{self.name} will be able to graduate this year!\")\n",
    "\n",
    "# Oppretter et objekt\n",
    "per = Student('Per', 12, True, 3.0)\n",
    "\n",
    "# Kaller metodene\n",
    "per.display_info()   \n",
    "per.graduation()    \n"
   ]
  },
  {
   "cell_type": "markdown",
   "id": "72fe8557-3bb9-4293-a7ed-f06fe904c346",
   "metadata": {},
   "source": [
    "### Klasser\n",
    "\n",
    "__init__-metoden er en spesiell metode i Python som brukes til å initialisere attributtene til en klasse når et objekt blir opprettet. Den gjør det mulig å:\n",
    "\n",
    "Automatisk tilordne verdier til instansvariabler når du oppretter et objekt.\n",
    "Gi en tydelig og standardisert måte å definere attributter for hvert objekt.\n",
    "Uten __init__-metoden måtte du manuelt tilordne verdier etter at objektet var opprettet, noe som kan være både tidkrevende og utsatt for feil."
   ]
  },
  {
   "cell_type": "markdown",
   "id": "f286ef1d-028e-4898-b603-08bdd38787ee",
   "metadata": {},
   "source": [
    "### Moduler\n",
    "From: \n",
    "Brukes når man importerer spesifikke funksjoner, klasser eller variabler fra en modul. Dette gjør det mulig å hente kun det du trenger fra en modul, i stedet for å importere alt.\n",
    "As:\n",
    "Brukes i Python for å gi et alias (et nytt navn) til moduler, funksjoner, klasser eller variabler når du importerer dem. Dette kan gjøre koden din enklere å lese, eller det kan hjelpe deg å unngå navnekonflikter.\n"
   ]
  },
  {
   "cell_type": "code",
   "execution_count": 76,
   "id": "9541ea41-e68f-475c-a122-dbccfc019b89",
   "metadata": {},
   "outputs": [
    {
     "name": "stdout",
     "output_type": "stream",
     "text": [
      "4.0\n",
      "3.141592653589793\n",
      "4.0\n",
      "3.141592653589793\n",
      "Example: Greyjoy Stark\n"
     ]
    }
   ],
   "source": [
    "#importere spesifikke funkjsoner\n",
    "from math import sqrt, pi\n",
    "\n",
    "print(sqrt(16))  # Output: 4.0\n",
    "print(pi)        # Output: 3.141592653589793\n",
    "\n",
    "#Bruker as for å gi nytt navn \n",
    "#Alias til en modul\n",
    "import math as m\n",
    "\n",
    "print(m.sqrt(16))  # Output: 4.0\n",
    "print(m.pi)  \n",
    "\n",
    "\n",
    "\n",
    "#Kan kombinere from og as, gir alias til en funksjon\n",
    "from random import sample as samp\n",
    "\n",
    "example = samp(['Stark', 'Targaryen', 'Baratheon', 'Greyjoy', 'Lannister'], 2)\n",
    "\n",
    "print('Example: ' + example[0] + ' ' + example[1])\n"
   ]
  },
  {
   "cell_type": "markdown",
   "id": "7025dc3b-cd0c-4524-89a2-ce1d7f7e7bba",
   "metadata": {},
   "source": [
    "### Visualisering\n",
    "- x-koordinater: Horisontal linje\n",
    "- y-koordinater: Vertikal linje\n",
    "\n",
    "(x1, y1, x2, y2)"
   ]
  },
  {
   "cell_type": "markdown",
   "id": "65c759f8-70db-4003-bd4e-58e956389641",
   "metadata": {},
   "source": [
    "### Filer og CSV"
   ]
  }
 ],
 "metadata": {
  "kernelspec": {
   "display_name": "INF161",
   "language": "python",
   "name": "inf161"
  },
  "language_info": {
   "codemirror_mode": {
    "name": "ipython",
    "version": 3
   },
   "file_extension": ".py",
   "mimetype": "text/x-python",
   "name": "python",
   "nbconvert_exporter": "python",
   "pygments_lexer": "ipython3",
   "version": "3.12.5"
  }
 },
 "nbformat": 4,
 "nbformat_minor": 5
}
