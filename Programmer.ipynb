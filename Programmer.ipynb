{
 "cells": [
  {
   "cell_type": "code",
   "execution_count": null,
   "id": "f694d0ae-3b28-4e9e-8755-6b7df26bb441",
   "metadata": {},
   "outputs": [],
   "source": [
    "import random"
   ]
  },
  {
   "cell_type": "markdown",
   "id": "d8b475f2-20f5-4b4b-af4f-f32e846e5b35",
   "metadata": {},
   "source": [
    "### Innhold\n",
    "\n",
    "[Operasjoner](#Operasjoner)\n",
    "- Regne ut bmi\n",
    "- Regne ut hypotenus\n",
    "- Veksler\n",
    "\n",
    "[If/Else/Elif](#If/Else/Elif)\n",
    "- Pengeflipping\n",
    "- Sjekke om bestått basert på karakter\n",
    "- Ph-nivåer\n",
    "\n",
    "[Logiske operasjoner](#Logiske-operasjoner)\n",
    "- Krav for å kjøre karusell i en park\n",
    "\n",
    "[Lokker](#Lokker)\n",
    "- While, guess\n",
    "- For, detention\n",
    "- 99 bottles, printe ut alle versene\n",
    "- Nøstede løkker\n",
    "   - Finne lykketallet\n"
   ]
  },
  {
   "cell_type": "markdown",
   "id": "b416bfe2-d935-43d3-b266-f9dcbdc509e2",
   "metadata": {},
   "source": [
    "## Operasjoner\n",
    "Si vi har 22F, hva blir dette i Celsius?"
   ]
  },
  {
   "cell_type": "code",
   "execution_count": null,
   "id": "52be433e-b6a5-46ea-8916-7879d868d5af",
   "metadata": {},
   "outputs": [],
   "source": [
    "#celsius=(F-32)/1.8\n",
    "temp_f=22\n",
    "temp_c=(f-32)/1.8\n",
    "print(temp_c)"
   ]
  },
  {
   "cell_type": "markdown",
   "id": "0f016359-7695-41ad-9b4d-97bb30f13f58",
   "metadata": {},
   "source": [
    "#### Program for å regne ut bmi.\n",
    "Her kan vi og bruke input slik brukerene selv kan skrive inn sin vekt. \n",
    "Vekt i kg og høyde i meter"
   ]
  },
  {
   "cell_type": "code",
   "execution_count": null,
   "id": "1dc7ec14-7887-41b6-bb93-912d76aaa141",
   "metadata": {},
   "outputs": [],
   "source": [
    "weight=60\n",
    "#weight=float(input(\"vekt i kg:\"))\n",
    "height=1.65\n",
    "#height=float(input(\"høyde i meter:\"))\n",
    "bmi=weight/(height**2)\n",
    "print(bmi)"
   ]
  },
  {
   "cell_type": "markdown",
   "id": "d5566bc9-95a4-434a-947e-34ac642b07bf",
   "metadata": {},
   "source": [
    "#### Program som regner ut hypotenus.\n",
    "Skal spør etter to tall a og b, og deretter regne ut c som er hypotenusen\n",
    "\n",
    "![Hypotenus](Hypotenus.png)"
   ]
  },
  {
   "cell_type": "code",
   "execution_count": null,
   "id": "9109cd18-842b-48b1-8662-db1d9e45721b",
   "metadata": {},
   "outputs": [],
   "source": [
    "a=float(input(\"Hva er lengden på a?\"))\n",
    "b=float(input(\"Hva er lengden på b?\"))\n",
    "\n",
    "c= ((a**2)+(b**2))**0.5\n",
    "\n",
    "print(f\"Lengden på hypotenusen er {c}\")"
   ]
  },
  {
   "cell_type": "markdown",
   "id": "7605ab20-a4fe-4c79-be9b-435784e3dddd",
   "metadata": {},
   "source": [
    "#### Program som veksler\n",
    "Har vært på tur og kommer tilbake til Norge, skal veksle fra Euro, Dollar og danske kroner til Nok. Deretter returnere samlet sum i Nok.\n",
    "\n",
    "Bruker en ish kurs, men dette går an å automatisere slik den alltid henter inn den siste kursen. "
   ]
  },
  {
   "cell_type": "markdown",
   "id": "2020845a-c499-4115-8250-450479a76c2c",
   "metadata": {},
   "source": [
    "## Dollar\n",
    "dollar=float(input(\"Hvor mye dollar har du?\"))\n",
    "krone_d=11.3*dollar\n",
    "\n",
    "#Euro\n",
    "euro=float(input(\"Hvor mye euro har du?\"))\n",
    "krone_e=11.8*euro\n",
    "\n",
    "#Dansk\n",
    "dansk=float(input(\"Hvor mye danske kroner har du?\"))\n",
    "krone_da=1.6*dansk\n",
    "\n",
    "norske_kroner=krone_d+krone_e+krone_da\n",
    "\n",
    "print(f'Du har {norske_kroner:.2f}kr etter turen') #Fobedrer slik vi ikke får masse desimaltall.\n",
    "\n"
   ]
  },
  {
   "cell_type": "markdown",
   "id": "712e749b-d2d5-429e-9f74-bcffd0deb129",
   "metadata": {},
   "source": [
    "## If/Else/Elif"
   ]
  },
  {
   "cell_type": "markdown",
   "id": "df765865-e4a9-4a25-a459-006b0a85ce10",
   "metadata": {},
   "source": [
    "Generer et tilfeldig tall som er mellom 0 og 1, og bruker da if/else og bestemmer hva som er head og tail.\n",
    "\n",
    "Hvis jeg hadde brukt random.random, ville det generert flyttall. "
   ]
  },
  {
   "cell_type": "code",
   "execution_count": null,
   "id": "20c07bc0-f428-42ea-b8e9-2db506bb2301",
   "metadata": {},
   "outputs": [],
   "source": [
    "num = random.randint(0, 1)  \n",
    "\n",
    "if num > 0.5:\n",
    "  print('Heads')\n",
    "else:\n",
    "  print('Tails')"
   ]
  },
  {
   "cell_type": "markdown",
   "id": "c23408d4-5b66-4efe-9229-39a611a6ec1b",
   "metadata": {},
   "source": [
    "#### Sjekker karakter\n",
    "Du har bestått hvis karakteren din er bedre enn 55, hvis ikke har du ikke bestått. "
   ]
  },
  {
   "cell_type": "code",
   "execution_count": null,
   "id": "1f2624a8-e6f2-4916-94fa-bc514c61d25d",
   "metadata": {},
   "outputs": [],
   "source": [
    "grade = random.randint(0,101)\n",
    "\n",
    "if grade>55:\n",
    "    print(\"You passed!\")\n",
    "else:\n",
    "    print(\"You failed\")\n",
    "print(grade)"
   ]
  },
  {
   "cell_type": "markdown",
   "id": "71048d91-baa4-4882-9eed-a830e4a6dc0c",
   "metadata": {},
   "source": [
    "#### Ph-nivåer\n",
    "Sjekker om et ph-nivå er basic, acidic eller neutral. "
   ]
  },
  {
   "cell_type": "code",
   "execution_count": null,
   "id": "a2439062-ba8b-450a-91c1-c6fbd3e12e34",
   "metadata": {},
   "outputs": [],
   "source": [
    "#ph_level=float(input(\"Hva er ph-nivået, mellom 0-14?\"))\n",
    "ph_level=6\n",
    "\n",
    "#Viktig å ha denne betingelsen først, slik vi sjekker om det er ugyldig nivå. Slik det ikke er noen andre if-setninger som er sanne. \n",
    "if ph_level>14 or ph_level<0:\n",
    "    print(\"Ph-verdien er ikke gyldig\")\n",
    "elif ph_level>7:\n",
    "    print (\"Basic\")\n",
    "elif ph_level<7:\n",
    "    print(\"Acidic\")\n",
    "else:\n",
    "    print(\"Neutral\")"
   ]
  },
  {
   "cell_type": "markdown",
   "id": "2c9db3ee-15ae-4e61-84d8-a7b42526421c",
   "metadata": {},
   "source": [
    "#### 8-ball\n",
    "Generer nytt svar, til hvert spørsmål som brukeren stiller. Kan kun svare på ja/nei spørsmål. "
   ]
  },
  {
   "cell_type": "code",
   "execution_count": null,
   "id": "ca092465-6e0d-4028-94bf-25e1701e07c3",
   "metadata": {},
   "outputs": [],
   "source": [
    "question=input(\"Question: \")\n",
    "answer=random.randint(0,9)\n",
    "\n",
    "print(\"Magic 8 ball: \",end=\"\") #viktig med end\"\" for å unngå en ny linje. \n",
    "\n",
    "if answer==1:\n",
    "    print(\"Yes - definitely.\")\n",
    "elif answer==2:\n",
    "    print(\"It is decidedly so.\")\n",
    "elif answer==3:\n",
    "    print(\"Without a doubt.\")\n",
    "elif answer==4:\n",
    "    print(\"Reply hazy, try again.\")\n",
    "elif answer==5:\n",
    "    print(\"Ask again later.\")\n",
    "elif answer==6:\n",
    "    print(\"Better not tell you now.\")\n",
    "elif answer==7:\n",
    "    print(\"My sources say no.\")\n",
    "elif answer==8:\n",
    "    print(\"Outlook not so good.\")\n",
    "elif answer==9:\n",
    "    print(\"Very doubtful.\")\n",
    "else:\n",
    "    print(\"Error\")\n",
    "\n",
    "#Kan og istedenfor å printe etter hver elif, kan jeg gi verdien til en variabel, slik print blir print('Magic 8 Ball:  ' + answer)\n",
    "#Hvor answer vil være det 8 ball svarer, også kan jeg kalle random_num, for å finne det random genererte svaret. \n",
    "\n"
   ]
  },
  {
   "cell_type": "markdown",
   "id": "6a9e755e-0af4-4c1c-93d0-630565ec312d",
   "metadata": {},
   "source": [
    "## Logiske operasjoner"
   ]
  },
  {
   "cell_type": "markdown",
   "id": "4df0cd46-56d8-4c07-8117-7b7932218392",
   "metadata": {},
   "source": [
    "#### Krav for å kjøre karusell i parken. \n",
    "Spør brukeren om høyde og poeng, lagrer disse i variabler. Skal sjekke om de kan komme til parken. \n",
    "\n",
    "Høyde må være 137, og credit være 10.\n",
    "\n",
    "If they are tall enough and have enough credits, print \"Enjoy the ride!\"\n",
    "Else if they have enough credits, but they aren't tall enough, print \"You are not tall enough to ride.\"\n",
    "Else if they are tall enough, but they don't have enough credits, print \"You don't have enough credits.\"\n",
    "Else, print a message saying they have not met either requirement."
   ]
  },
  {
   "cell_type": "code",
   "execution_count": null,
   "id": "2bc322ba-f877-4bc5-b0f4-29148aedbb66",
   "metadata": {},
   "outputs": [],
   "source": [
    "height=float(input(\"Hvor høy er du?\"))\n",
    "credit=float(input(\"Hvor mange poeng har du?\"))\n",
    "\n",
    "if (height>=137 and credit>=10):\n",
    "    print (\"Enjoy the ride!\")\n",
    "elif (height<137 and credit>=10):\n",
    "    print (\"You are not tall enough to ride\")\n",
    "elif (height>=137 and credit<10):\n",
    "    print (\"You don't have enough credits.\")\n",
    "else:\n",
    "    print (\"You have not met either requirements\")"
   ]
  },
  {
   "cell_type": "markdown",
   "id": "b0006875-3418-41bf-9559-de0c73efaccf",
   "metadata": {},
   "source": [
    "## Lokker"
   ]
  },
  {
   "cell_type": "markdown",
   "id": "37182fa9-9787-4a17-bfab-55db3e54594e",
   "metadata": {},
   "source": [
    "#### While-løkke\n",
    "#### guess\n",
    "Legger til at en ikke kan prøve å gjette mer enn 5 gange. "
   ]
  },
  {
   "cell_type": "code",
   "execution_count": null,
   "id": "69168e4d-6633-4d0e-bbde-c17e97fe1476",
   "metadata": {},
   "outputs": [],
   "source": [
    "guess = 0\n",
    "tries= 0\n",
    "\n",
    "while guess != 6 and tries < 5:\n",
    "    guess = int(input('Guess the number: '))\n",
    "    tries += 1  # Øker tries med 1 for hvert gjett\n",
    "    if (tries==5):\n",
    "        print(\"You have no more tries left\")\n",
    "        \n",
    "if guess == 6:\n",
    "    print(\"You got it!\")"
   ]
  },
  {
   "cell_type": "markdown",
   "id": "6899f45a-77ae-447c-9bfd-8cd376ab0f08",
   "metadata": {},
   "source": [
    "#### For-løkker\n",
    "#### Detention\n",
    "Du har fått igjensitting, og må skrive  \"I will not use Snapchat in class\" 100 ganger, gjør dette med et program. "
   ]
  },
  {
   "cell_type": "raw",
   "id": "c6473855-2c52-480a-a38b-7192837a2f5a",
   "metadata": {},
   "source": [
    "for i in range(0,101):\n",
    "    print(\"I will not use Snapchat in class\")"
   ]
  },
  {
   "cell_type": "markdown",
   "id": "c09f9493-b01f-4774-8834-c5d71c28b43a",
   "metadata": {},
   "source": [
    "#### 99 bottles\n",
    "Printe ut alle versene til sangen"
   ]
  },
  {
   "cell_type": "raw",
   "id": "7debf6f7-cff7-42d6-8be3-b82f11f75ca4",
   "metadata": {},
   "source": [
    "for i in range (99, 0, -1):\n",
    "    print(f'{i} bottles of beer on the wall\\n{i} bottles of beer\\nTake one down, pass it around\\n{i-1} bottles of beer on the wall\\n')"
   ]
  },
  {
   "cell_type": "markdown",
   "id": "569faa2d-1ade-4cf6-b23f-3f3815578c08",
   "metadata": {},
   "source": [
    "#### Nøstede-løkker"
   ]
  },
  {
   "cell_type": "markdown",
   "id": "1e33ecea-d88e-49e6-a7fc-fe0a4e8ba96b",
   "metadata": {},
   "source": [
    "#### Finne det heldige tallet\n",
    "Importere en tilfeldig tall, og sjak sjekke om dette er det heldige tallet vi ser etter. \n",
    "Generer med en while-løkke helt til det gitte tallet blir funnet."
   ]
  },
  {
   "cell_type": "code",
   "execution_count": 5,
   "id": "ff681b7f-27f8-4eeb-993d-80be27f54737",
   "metadata": {},
   "outputs": [
    {
     "name": "stdout",
     "output_type": "stream",
     "text": [
      "lucky number is 3\n"
     ]
    }
   ],
   "source": [
    "import random\n",
    "\n",
    "lucky_number=random.randint(1,10)\n",
    "not_found=True \n",
    "\n",
    "while not_found: #While løkken kjører jo så lenge betingelsen er true. \n",
    "    for i in range(1,11):\n",
    "        if i==lucky_number:\n",
    "            not_found=False #Når vi finner lucky number så må vi sette betingelsen til false.\n",
    "            break #bruker deretter break for å bryte ut av while-løkken\n",
    "print(f'lucky number is {i}')"
   ]
  },
  {
   "cell_type": "markdown",
   "id": "3881e42c-c243-41fa-9f00-562dcc1ea1c6",
   "metadata": {},
   "source": [
    "## Pyramideformet *"
   ]
  },
  {
   "cell_type": "code",
   "execution_count": 7,
   "id": "a06125dd-3e05-4987-907a-c580adf327bb",
   "metadata": {},
   "outputs": [
    {
     "name": "stdout",
     "output_type": "stream",
     "text": [
      "\n",
      "*\n",
      "**\n",
      "***\n",
      "****\n",
      "*****\n",
      "******\n",
      "*******\n",
      "********\n"
     ]
    }
   ],
   "source": [
    "for i in range(0,9):\n",
    "    print(i*'*')"
   ]
  },
  {
   "cell_type": "markdown",
   "id": "2c315ac4-c60f-4119-95cb-eb44161fe0ff",
   "metadata": {},
   "source": [
    "## Pyramideformet tall"
   ]
  },
  {
   "cell_type": "markdown",
   "id": "59f3df31-1598-4643-9bde-1df8509bef6a",
   "metadata": {},
   "source": [
    "Printer ut 1-10 i pyramideform. Floyds treangel. \n",
    "\n",
    "Da må jeg bruke en dobbel for-løkke. \n",
    "\n",
    "https://www.programiz.com/python-programming/examples/pyramid-pattern\n",
    "\n",
    "\n",
    "![Floyds treangel](Floyd.png)\n"
   ]
  },
  {
   "cell_type": "code",
   "execution_count": 8,
   "id": "fc9633b8-d195-44a6-b81b-3a9e95cf98fd",
   "metadata": {},
   "outputs": [
    {
     "name": "stdout",
     "output_type": "stream",
     "text": [
      "1 \n",
      "2 3 \n",
      "4 5 6 \n",
      "7 8 9 10 \n"
     ]
    }
   ],
   "source": [
    "#rows = int(input(\"Enter number of rows: \"))  \n",
    "rows=4\n",
    "number = 1  \n",
    "\n",
    "for i in range(1, rows + 1): #Styrer antall rader\n",
    "    for j in range(1, i + 1):  #Styrer antall tall i hver rad\n",
    "        print(number, end=\" \")  \n",
    "        number += 1 #øker nummer med 1.\n",
    "    print()  \n",
    "\n"
   ]
  },
  {
   "cell_type": "code",
   "execution_count": null,
   "id": "095ce07d-bab6-4817-9dc4-4623665bd91f",
   "metadata": {},
   "outputs": [],
   "source": []
  }
 ],
 "metadata": {
  "kernelspec": {
   "display_name": "Python 3 (ipykernel)",
   "language": "python",
   "name": "python3"
  },
  "language_info": {
   "codemirror_mode": {
    "name": "ipython",
    "version": 3
   },
   "file_extension": ".py",
   "mimetype": "text/x-python",
   "name": "python",
   "nbconvert_exporter": "python",
   "pygments_lexer": "ipython3",
   "version": "3.13.1"
  }
 },
 "nbformat": 4,
 "nbformat_minor": 5
}
